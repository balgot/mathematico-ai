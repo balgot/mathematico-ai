{
 "cells": [
  {
   "attachments": {},
   "cell_type": "markdown",
   "metadata": {},
   "source": [
    "# Mathematico RL Agent "
   ]
  },
  {
   "attachments": {},
   "cell_type": "markdown",
   "metadata": {},
   "source": [
    "This notebook contains configuration and code to train a neural network, which is integrated with a `Mathematico` agent to play the game."
   ]
  },
  {
   "cell_type": "code",
   "execution_count": 23,
   "metadata": {
    "tags": []
   },
   "outputs": [],
   "source": [
    "%%capture\n",
    "%load_ext autoreload\n",
    "%autoreload 2\n",
    "\n",
    "%pip install -Uq pip jupyter ipywidgets\n",
    "%pip install install --quiet 'git+https://github.com/balgot/mathematico.git#egg=mathematico&subdirectory=game'\n",
    "%pip install -q torch torchview torch-summary graphviz numpy matplotlib tqdm wandb"
   ]
  },
  {
   "attachments": {},
   "cell_type": "markdown",
   "metadata": {},
   "source": [
    "## Algorithm"
   ]
  },
  {
   "attachments": {},
   "cell_type": "markdown",
   "metadata": {},
   "source": [
    "Consider an agent **A** which is using MCTS and neural network *N* to find the\n",
    "best move.\n",
    "\n",
    "This algorithm works as follows: \n",
    "\n",
    "* play *M* games, recording the whole MCTS tree including all statistics and the final outcome (in the expert memory).\n",
    "* sample *k* moves from the memory (experience replay), compute the loss between *N(s)* and expected reward and update the params of the network."
   ]
  },
  {
   "cell_type": "code",
   "execution_count": 41,
   "metadata": {
    "tags": []
   },
   "outputs": [],
   "source": [
    "config = {\n",
    "    \"algorithm\": \"RL-td0-state(board)-joined\",  # rough description of the algorithm\n",
    "    \"name\": \"test-run\",  # wandb-run name\n",
    "    \"cuda\": True,  # use CUDA if possible (beware of memory)\n",
    "    \n",
    "    # random related, due to \n",
    "    \"seed\": 0,\n",
    "    \"test_seed\": 42,  # used for always measuring performance on the same games\n",
    "    \"test after . epochs\": 15,  # how many epochs to train before conducting a tournament between agents\n",
    "    \n",
    "    # neural net\n",
    "    \"network\": \"Simple_Board_v0\",  # name of the network to use\n",
    "    \n",
    "    ## pretraining on only final states, uses exponential decay\n",
    "    \"pretrain\": {  # None for no pretraining\n",
    "        \"epochs\": 128,\n",
    "        \"samples\": 32,\n",
    "        \"start-lr\": 0.001,\n",
    "        \"weight-decay\": 0.1,  # adam weight decay\n",
    "    },\n",
    "    \n",
    "    ## Optimizer params\n",
    "    \"optimizer\": \"Adam\",  # the only option\n",
    "    \"lr\": 0.005,  # initial learning rate\n",
    "    \"betas\": (0.9, 0.999),\n",
    "    \"weight-decay\": 0.1,\n",
    "    \n",
    "    ## LR scheduler params\n",
    "    \"lr-scheduler\": \"ExponentialLR\", # only option for now (used with ReduceLROnPlateau)\n",
    "    \"lr-gamma\": 0.96,  \n",
    "    \n",
    "    ## gradient clipping\n",
    "    \"max-gradient-norm\": 1,\n",
    "    \n",
    "    # about MCTS\n",
    "    ## TODO: add epsilon-greeddy exploration\n",
    "    \"stochastic\": False,  # the only option now is deterministic\n",
    "    \"time_limit\": None,    # milliseconds\n",
    "    \"simuls_limit\": 10, # per move\n",
    "    \"policy repeats\": 1, # how many times to rerun the rollout policy\n",
    "    \"static_policy\": False, # if True, policy just returns the value of the node\n",
    "    \n",
    "    # algo params\n",
    "    \"test_games\": 10,\n",
    "    \"n_simulated_games\": 2,  # at least 2 for stddev to exist\n",
    "    \"sample\": True,  # do random sampling from data or just shuffle, the only option due to RAM contraints\n",
    "    \"batch_size\": 256,  # only applicable if \"sample\" = True\n",
    "    \"n_training_loops\": 64, # per one RL epoch\n",
    "    \"n_epochs\": 1,\n",
    "\n",
    "    # loss function calculation\n",
    "    \"alpha\": 1,  # how well do we approximate MCTS\n",
    "    \"beta\": 0,  # discounted final score approximation\n",
    "    \"target-scale\": 1.005,  # make neural network to overpredict by .5%\n",
    "}\n",
    "\n",
    "assert config[\"optimizer\"] == \"Adam\"\n",
    "assert config[\"lr-scheduler\"] == \"ExponentialLR\"\n",
    "assert config[\"n_simulated_games\"] > 1"
   ]
  },
  {
   "cell_type": "code",
   "execution_count": 42,
   "metadata": {
    "tags": []
   },
   "outputs": [
    {
     "data": {
      "text/plain": [
       "device(type='cpu')"
      ]
     },
     "execution_count": 42,
     "metadata": {},
     "output_type": "execute_result"
    }
   ],
   "source": [
    "import os, sys\n",
    "sys.path.append(os.path.abspath(os.path.join(\"../\")))\n",
    "\n",
    "import random\n",
    "import statistics\n",
    "from copy import deepcopy\n",
    "import time\n",
    "import math\n",
    "import warnings\n",
    "\n",
    "import torch\n",
    "from torchview import draw_graph\n",
    "from torchsummary import summary\n",
    "import numpy as np\n",
    "from tqdm.notebook import trange, tqdm\n",
    "import matplotlib.pyplot as plt\n",
    "import wandb\n",
    "import graphviz\n",
    "graphviz.set_jupyter_format('png')  # VS code fix for cropped images from torchview\n",
    "\n",
    "import mathematico\n",
    "from src.utils import mcts\n",
    "from src.utils.extract_data import extract\n",
    "from src.utils.symmetries import all_symmetries\n",
    "import src.nets as nets\n",
    "from src.utils.lr import display_learning_rate\n",
    "\n",
    "\n",
    "########################################\n",
    "# random seed\n",
    "########################################\n",
    "\n",
    "torch.random.manual_seed(config[\"seed\"])\n",
    "random.seed(config[\"seed\"])\n",
    "np.random.seed(config[\"seed\"])\n",
    "\n",
    "\n",
    "########################################\n",
    "# cuda settings\n",
    "########################################\n",
    "\n",
    "if not config[\"cuda\"]:\n",
    "    os.environ[\"CUDA_VISIBLE_DEVICES\"] = \"\"\n",
    "dev = torch.device(\"cuda\") if torch.cuda.is_available() and config[\"cuda\"] else torch.device(\"cpu\")\n",
    "dev"
   ]
  },
  {
   "attachments": {},
   "cell_type": "markdown",
   "metadata": {},
   "source": [
    "### Neural Network Definition"
   ]
  },
  {
   "attachments": {},
   "cell_type": "markdown",
   "metadata": {},
   "source": [
    "As the input, the network takes `list[list[int]]` - the board and it approximates the value function `V(s) = V(board)`.\n",
    "\n",
    "All inputs are one-hot encoded."
   ]
  },
  {
   "cell_type": "code",
   "execution_count": 43,
   "metadata": {
    "tags": []
   },
   "outputs": [
    {
     "name": "stdout",
     "output_type": "stream",
     "text": [
      "===============================================================================================\n",
      "Layer (type:depth-idx)                        Output Shape              Param #\n",
      "===============================================================================================\n",
      "├─Sequential: 1-1                             [-1, 1]                   --\n",
      "|    └─OneHot: 2-1                            [-1, 5, 5, 14]            --\n",
      "|    └─Flatten: 2-2                           [-1, 350]                 --\n",
      "|    └─DenseBlock: 2-3                        [-1, 2048]                --\n",
      "|    |    └─Sequential: 3-1                   [-1, 2048]                --\n",
      "|    |    |    └─Sequential: 4-1              [-1, 1024]                --\n",
      "|    |    |    |    └─Linear: 5-1             [-1, 1024]                359,424\n",
      "|    |    |    |    └─ReLU: 5-2               [-1, 1024]                --\n",
      "|    |    |    |    └─Dropout1d: 5-3          [-1, 1024]                --\n",
      "|    |    |    └─Sequential: 4-2              [-1, 2048]                --\n",
      "|    |    |    |    └─Linear: 5-4             [-1, 2048]                2,099,200\n",
      "|    |    |    |    └─ReLU: 5-5               [-1, 2048]                --\n",
      "|    |    |    |    └─Dropout1d: 5-6          [-1, 2048]                --\n",
      "|    |    |    └─Sequential: 4-3              [-1, 2048]                --\n",
      "|    |    |    |    └─Linear: 5-7             [-1, 2048]                4,196,352\n",
      "|    |    |    |    └─ReLU: 5-8               [-1, 2048]                --\n",
      "|    |    |    |    └─Dropout1d: 5-9          [-1, 2048]                --\n",
      "|    |    |    └─Sequential: 4-4              [-1, 2048]                --\n",
      "|    |    |    |    └─Linear: 5-10            [-1, 2048]                4,196,352\n",
      "|    |    |    |    └─ReLU: 5-11              [-1, 2048]                --\n",
      "|    |    |    |    └─Dropout1d: 5-12         [-1, 2048]                --\n",
      "|    |    |    └─LayerNorm: 4-5               [-1, 2048]                4,096\n",
      "|    └─DenseBlock: 2-4                        [-1, 512]                 --\n",
      "|    |    └─Sequential: 3-2                   [-1, 512]                 --\n",
      "|    |    |    └─Sequential: 4-6              [-1, 1024]                --\n",
      "|    |    |    |    └─Linear: 5-13            [-1, 1024]                2,098,176\n",
      "|    |    |    |    └─ReLU: 5-14              [-1, 1024]                --\n",
      "|    |    |    |    └─Dropout1d: 5-15         [-1, 1024]                --\n",
      "|    |    |    └─Sequential: 4-7              [-1, 1024]                --\n",
      "|    |    |    |    └─Linear: 5-16            [-1, 1024]                1,049,600\n",
      "|    |    |    |    └─ReLU: 5-17              [-1, 1024]                --\n",
      "|    |    |    |    └─Dropout1d: 5-18         [-1, 1024]                --\n",
      "|    |    |    └─Sequential: 4-8              [-1, 1024]                --\n",
      "|    |    |    |    └─Linear: 5-19            [-1, 1024]                1,049,600\n",
      "|    |    |    |    └─ReLU: 5-20              [-1, 1024]                --\n",
      "|    |    |    |    └─Dropout1d: 5-21         [-1, 1024]                --\n",
      "|    |    |    └─Sequential: 4-9              [-1, 1024]                --\n",
      "|    |    |    |    └─Linear: 5-22            [-1, 1024]                1,049,600\n",
      "|    |    |    |    └─ReLU: 5-23              [-1, 1024]                --\n",
      "|    |    |    |    └─Dropout1d: 5-24         [-1, 1024]                --\n",
      "|    |    |    └─Sequential: 4-10             [-1, 512]                 --\n",
      "|    |    |    |    └─Linear: 5-25            [-1, 512]                 524,800\n",
      "|    |    |    |    └─ReLU: 5-26              [-1, 512]                 --\n",
      "|    |    |    |    └─Dropout1d: 5-27         [-1, 512]                 --\n",
      "|    └─Linear: 2-5                            [-1, 256]                 131,328\n",
      "|    └─ReLU: 2-6                              [-1, 256]                 --\n",
      "|    └─Linear: 2-7                            [-1, 1]                   257\n",
      "===============================================================================================\n",
      "Total params: 16,758,785\n",
      "Trainable params: 16,758,785\n",
      "Non-trainable params: 0\n",
      "Total mult-adds (M): 83.33\n",
      "===============================================================================================\n",
      "Input size (MB): 0.00\n",
      "Forward/backward pass size (MB): 0.11\n",
      "Params size (MB): 63.93\n",
      "Estimated Total Size (MB): 64.04\n",
      "===============================================================================================\n"
     ]
    }
   ],
   "source": [
    "from src.nets import Dense_board_v2\n",
    "\n",
    "_nn_cls = Dense_board_v2()\n",
    "model = _nn_cls.to(dev)\n",
    "\n",
    "optimizer = torch.optim.Adam(model.parameters(), lr=config[\"lr\"], betas=config[\"betas\"], weight_decay=config[\"weight-decay\"])\n",
    "scheduler1 = torch.optim.lr_scheduler.ExponentialLR(optimizer, gamma=config[\"lr-gamma\"])\n",
    "scheduler2 = torch.optim.lr_scheduler.ReduceLROnPlateau(optimizer)\n",
    "\n",
    "# create fake input for testing the net and displaying the info\n",
    "_board_batch = torch.tensor([[[0, 1, 11, 12, 13]] * 5] * 32, device=dev)\n",
    "_out = model.forward(_board_batch)\n",
    "summary(model, [(5, 5)], depth=7);"
   ]
  },
  {
   "cell_type": "code",
   "execution_count": 44,
   "metadata": {
    "tags": []
   },
   "outputs": [
    {
     "data": {
      "image/png": "[encoded data removed]",
      "text/plain": [
       "<graphviz.graphs.Digraph at 0x7fba677bbf10>"
      ]
     },
     "execution_count": 44,
     "metadata": {},
     "output_type": "execute_result"
    }
   ],
   "source": [
    "draw_graph(model, input_data=_board_batch, depth=3, graph_dir=\"LR\").visual_graph"
   ]
  },
  {
   "attachments": {},
   "cell_type": "markdown",
   "metadata": {},
   "source": [
    "Leaning rate:"
   ]
  },
  {
   "cell_type": "code",
   "execution_count": 45,
   "metadata": {
    "tags": []
   },
   "outputs": [
    {
     "data": {
      "image/png": "[encoded data removed]",
      "text/plain": [
       "<Figure size 640x480 with 1 Axes>"
      ]
     },
     "metadata": {},
     "output_type": "display_data"
    }
   ],
   "source": [
    "with warnings.catch_warnings():  # warning about not using step on optimizer\n",
    "    warnings.simplefilter(\"ignore\")\n",
    "    _s = deepcopy(scheduler1)\n",
    "    display_learning_rate(lambda: _s, config['n_epochs'])\n",
    "    ax = plt.gca()\n",
    "    ax.set_yscale('log')\n",
    "    plt.show()\n",
    "\n",
    "    del _s"
   ]
  },
  {
   "attachments": {},
   "cell_type": "markdown",
   "metadata": {},
   "source": [
    "### Weight & Biases Initialisation"
   ]
  },
  {
   "cell_type": "code",
   "execution_count": 46,
   "metadata": {
    "tags": []
   },
   "outputs": [
    {
     "data": {
      "text/html": [
       "Finishing last run (ID:2pc4pzrr) before initializing another..."
      ],
      "text/plain": [
       "<IPython.core.display.HTML object>"
      ]
     },
     "metadata": {},
     "output_type": "display_data"
    },
    {
     "data": {
      "text/html": [
       "Waiting for W&B process to finish... <strong style=\"color:green\">(success).</strong>"
      ],
      "text/plain": [
       "<IPython.core.display.HTML object>"
      ]
     },
     "metadata": {},
     "output_type": "display_data"
    },
    {
     "data": {
      "application/vnd.jupyter.widget-view+json": {
       "model_id": "60164c0d3a4a4dca9a525cd52e643946",
       "version_major": 2,
       "version_minor": 0
      },
      "text/plain": [
       "VBox(children=(Label(value='0.001 MB of 0.013 MB uploaded (0.000 MB deduped)\\r'), FloatProgress(value=0.105211…"
      ]
     },
     "metadata": {},
     "output_type": "display_data"
    },
    {
     "data": {
      "text/html": [
       "<style>\n",
       "    table.wandb td:nth-child(1) { padding: 0 10px; text-align: left ; width: auto;} td:nth-child(2) {text-align: left ; width: 100%}\n",
       "    .wandb-row { display: flex; flex-direction: row; flex-wrap: wrap; justify-content: flex-start; width: 100% }\n",
       "    .wandb-col { display: flex; flex-direction: column; flex-basis: 100%; flex: 1; padding: 10px; }\n",
       "    </style>\n",
       "<div class=\"wandb-row\"><div class=\"wandb-col\"><h3>Run history:</h3><br/><table class=\"wandb\"><tr><td>loss</td><td>▁█</td></tr><tr><td>loss [final]</td><td>▁▁</td></tr><tr><td>loss [mcts]</td><td>▁█</td></tr><tr><td>lr</td><td>█▁</td></tr><tr><td>max score</td><td>▁█</td></tr><tr><td>mean</td><td>▁█</td></tr><tr><td>min score</td><td>▁█</td></tr><tr><td>std</td><td>▁█</td></tr><tr><td>time</td><td>▁█</td></tr></table><br/></div><div class=\"wandb-col\"><h3>Run summary:</h3><br/><table class=\"wandb\"><tr><td>loss</td><td>6569.87744</td></tr><tr><td>loss [final]</td><td>0.0</td></tr><tr><td>loss [mcts]</td><td>6569.87744</td></tr><tr><td>lr</td><td>0.00461</td></tr><tr><td>max score</td><td>240</td></tr><tr><td>mean</td><td>210</td></tr><tr><td>min score</td><td>180</td></tr><tr><td>std</td><td>42.42641</td></tr><tr><td>time</td><td>257.8252</td></tr></table><br/></div></div>"
      ],
      "text/plain": [
       "<IPython.core.display.HTML object>"
      ]
     },
     "metadata": {},
     "output_type": "display_data"
    },
    {
     "data": {
      "text/html": [
       " View run <strong style=\"color:#cdcd00\">test-run</strong> at: <a href='https://wandb.ai/pa228/PA026/runs/2pc4pzrr' target=\"_blank\">https://wandb.ai/pa228/PA026/runs/2pc4pzrr</a><br/>Synced 5 W&B file(s), 0 media file(s), 0 artifact file(s) and 0 other file(s)"
      ],
      "text/plain": [
       "<IPython.core.display.HTML object>"
      ]
     },
     "metadata": {},
     "output_type": "display_data"
    },
    {
     "data": {
      "text/html": [
       "Find logs at: <code>./wandb/run-20230511_175428-2pc4pzrr/logs</code>"
      ],
      "text/plain": [
       "<IPython.core.display.HTML object>"
      ]
     },
     "metadata": {},
     "output_type": "display_data"
    },
    {
     "data": {
      "text/html": [
       "Successfully finished last run (ID:2pc4pzrr). Initializing new run:<br/>"
      ],
      "text/plain": [
       "<IPython.core.display.HTML object>"
      ]
     },
     "metadata": {},
     "output_type": "display_data"
    },
    {
     "data": {
      "application/vnd.jupyter.widget-view+json": {
       "model_id": "f894f5c1d2fc49af963c502d8274c02c",
       "version_major": 2,
       "version_minor": 0
      },
      "text/plain": [
       "VBox(children=(Label(value='Waiting for wandb.init()...\\r'), FloatProgress(value=0.01666901511666765, max=1.0)…"
      ]
     },
     "metadata": {},
     "output_type": "display_data"
    },
    {
     "data": {
      "text/html": [
       "wandb version 0.15.2 is available!  To upgrade, please run:\n",
       " $ pip install wandb --upgrade"
      ],
      "text/plain": [
       "<IPython.core.display.HTML object>"
      ]
     },
     "metadata": {},
     "output_type": "display_data"
    },
    {
     "data": {
      "text/html": [
       "Tracking run with wandb version 0.14.2"
      ],
      "text/plain": [
       "<IPython.core.display.HTML object>"
      ]
     },
     "metadata": {},
     "output_type": "display_data"
    },
    {
     "data": {
      "text/html": [
       "Run data is saved locally in <code>/home/samo/Desktop/new_alpha/alphamatico_one/notebooks/wandb/run-20230511_180230-tbsp9ta8</code>"
      ],
      "text/plain": [
       "<IPython.core.display.HTML object>"
      ]
     },
     "metadata": {},
     "output_type": "display_data"
    },
    {
     "data": {
      "text/html": [
       "Syncing run <strong><a href='https://wandb.ai/pa228/PA026/runs/tbsp9ta8' target=\"_blank\">test-run</a></strong> to <a href='https://wandb.ai/pa228/PA026' target=\"_blank\">Weights & Biases</a> (<a href='https://wandb.me/run' target=\"_blank\">docs</a>)<br/>"
      ],
      "text/plain": [
       "<IPython.core.display.HTML object>"
      ]
     },
     "metadata": {},
     "output_type": "display_data"
    },
    {
     "data": {
      "text/html": [
       " View project at <a href='https://wandb.ai/pa228/PA026' target=\"_blank\">https://wandb.ai/pa228/PA026</a>"
      ],
      "text/plain": [
       "<IPython.core.display.HTML object>"
      ]
     },
     "metadata": {},
     "output_type": "display_data"
    },
    {
     "data": {
      "text/html": [
       " View run at <a href='https://wandb.ai/pa228/PA026/runs/tbsp9ta8' target=\"_blank\">https://wandb.ai/pa228/PA026/runs/tbsp9ta8</a>"
      ],
      "text/plain": [
       "<IPython.core.display.HTML object>"
      ]
     },
     "metadata": {},
     "output_type": "display_data"
    },
    {
     "data": {
      "text/html": [
       "<button onClick=\"this.nextSibling.style.display='block';this.style.display='none';\">Display W&B run</button><iframe src='https://wandb.ai/pa228/PA026/runs/tbsp9ta8?jupyter=true' style='border:none;width:100%;height:420px;display:none;'></iframe>"
      ],
      "text/plain": [
       "<wandb.sdk.wandb_run.Run at 0x7fba67608390>"
      ]
     },
     "execution_count": 46,
     "metadata": {},
     "output_type": "execute_result"
    }
   ],
   "source": [
    "import wandb\n",
    "wandb.init(config=config, project=\"PA026\", name=config.get(\"name\", None), settings=wandb.Settings(start_method=\"fork\"))"
   ]
  },
  {
   "attachments": {},
   "cell_type": "markdown",
   "metadata": {},
   "source": [
    "### Agent"
   ]
  },
  {
   "cell_type": "code",
   "execution_count": 47,
   "metadata": {
    "tags": []
   },
   "outputs": [],
   "source": [
    "from src.agents.mcts_player import MctsPlayer, CardState, MoveState\n",
    "\n",
    "def policy_static(state: mcts.StateI) -> float:\n",
    "    board = torch.tensor([state.board.grid], device=dev)\n",
    "    return model(board)\n",
    "\n",
    "\n",
    "def policy_dynamic(state: mcts.StateI) -> float:\n",
    "    _board = deepcopy(state.board)\n",
    "    _possible_moves = set(_board.possible_moves())\n",
    "    _deck = [k for k, v in state.deck.items() for _ in range(v)]\n",
    "    random.shuffle(_deck)\n",
    "    \n",
    "    def mmove(move, card):\n",
    "        b = deepcopy(_board.grid)\n",
    "        b[move[0]][move[1]] = card\n",
    "        return b\n",
    "    \n",
    "    with torch.no_grad():\n",
    "        for i in range(len(_possible_moves)):\n",
    "            batch = torch.tensor([\n",
    "                mmove(move, _deck[i]) for move in _possible_moves\n",
    "            ], device=dev)\n",
    "            out = model(batch)\n",
    "            idx = torch.argmax(out)\n",
    "            move = list(_possible_moves)[idx]\n",
    "            _board.make_move(move, _deck[i])\n",
    "            _possible_moves.discard(move)\n",
    "        return _board.score()\n",
    "            \n",
    "        \n",
    "        \n",
    "def repeated_dynamic(state):\n",
    "    total = 0\n",
    "    REPS = config['policy repeats']\n",
    "    for _ in range(REPS):\n",
    "        total += policy_dynamic(state)\n",
    "    return total / REPS       \n",
    "    \n",
    "\n",
    "\n",
    "agent = MctsPlayer(\n",
    "    max_time_ms=config[\"time_limit\"], \n",
    "    max_simulations=config[\"simuls_limit\"], \n",
    "    policy=policy_static if config[\"static_policy\"] else repeated_dynamic\n",
    ")"
   ]
  },
  {
   "attachments": {},
   "cell_type": "markdown",
   "metadata": {},
   "source": [
    "check it works by playing a random game"
   ]
  },
  {
   "cell_type": "code",
   "execution_count": 48,
   "metadata": {
    "tags": []
   },
   "outputs": [
    {
     "name": "stdout",
     "output_type": "stream",
     "text": [
      "Steps run: 1\tElapsed time: 47.076744079589844\n",
      "per_move_sec=1.8830882167816163\n",
      "CPU times: user 1min 32s, sys: 457 ms, total: 1min 32s\n",
      "Wall time: 47.1 s\n"
     ]
    }
   ],
   "source": [
    "%%time\n",
    "\n",
    "start = time.time()\n",
    "arena = mathematico.Arena()\n",
    "arena.add_player(agent)\n",
    "arena.run(seed=0, rounds=1, verbose=True)\n",
    "end = time.time()\n",
    "\n",
    "per_move_sec = (end - start) / (5 * 5)\n",
    "print(f\"{per_move_sec=}\")"
   ]
  },
  {
   "attachments": {},
   "cell_type": "markdown",
   "metadata": {},
   "source": [
    "## Training"
   ]
  },
  {
   "attachments": {},
   "cell_type": "markdown",
   "metadata": {},
   "source": [
    "#### Utils"
   ]
  },
  {
   "cell_type": "code",
   "execution_count": 49,
   "metadata": {
    "tags": []
   },
   "outputs": [],
   "source": [
    "class VNPlayer(mathematico.Player):\n",
    "    def reset(self):\n",
    "        self.board = mathematico.Board()\n",
    "        \n",
    "    def move(self, card: int) -> None:\n",
    "        possibles = list(self.board.possible_moves())\n",
    "        \n",
    "        def place(row, col):\n",
    "            _g = deepcopy(self.board.grid)\n",
    "            _g[row][col] = card\n",
    "            return _g\n",
    "        \n",
    "        batch = torch.tensor([place(row, col) for row, col in possibles], device=dev)\n",
    "        scores = model(batch)\n",
    "        idx = torch.argmax(scores)\n",
    "        row, col = possibles[idx]\n",
    "        self.board.make_move((row, col), card)\n",
    "\n",
    "\n",
    "def _eval_against_players(agent, model, rounds):\n",
    "    \"\"\"\n",
    "    Evaluate the agent against:\n",
    "        1. random player\n",
    "        2. mcts player with same time for a game (not very precise..)\n",
    "        3. mcts with same number of simuls\n",
    "        4. only value network\n",
    "        \n",
    "    Returns:\n",
    "        win rate for 1, 2, 3, 4\n",
    "        avg score for 1, 2, 3, 4\n",
    "        descriptions\n",
    "        ranking value (avg number of player defeated)\n",
    "    \"\"\"\n",
    "    model.eval()\n",
    "    players = [\n",
    "        agent, \n",
    "        mathematico.RandomPlayer(), \n",
    "        MctsPlayer(max_time_ms=per_move_sec * 1000),\n",
    "        MctsPlayer(max_simulations=config[\"simuls_limit\"]),\n",
    "        VNPlayer()\n",
    "    ]\n",
    "    \n",
    "    desc = [\"vn+mcts player\", \"random\", \"mcts(time)\", \"mcts(simuls)\", \"value net\"]\n",
    "    \n",
    "    wins_agains = [0 for _ in players]\n",
    "    total_score = [0 for _ in players]\n",
    "    rank = 0\n",
    "    \n",
    "    for _round in trange(rounds, desc=\"Evaluating performance tournament\", leave=None):\n",
    "        game = mathematico.Mathematico(seed=_round + config[\"test_seed\"])\n",
    "        for player in players:\n",
    "            player.reset()\n",
    "            game.add_player(player)\n",
    "            \n",
    "        scores = game.play()\n",
    "        \n",
    "        # first is always our agent\n",
    "        for i in range(len(scores)):\n",
    "            if scores[0] >= scores[i]:\n",
    "                wins_agains[i] += 1\n",
    "                \n",
    "        for i in range(len(scores)):\n",
    "            total_score[i] += scores[i]\n",
    "            \n",
    "        rank += sum(scores[0] >= scores[i] for i in range(1, len(scores)))\n",
    "        \n",
    "    rank /= (rounds * (len(players) - 1))\n",
    "    return [w/rounds for w in wins_agains], [s/rounds for s in total_score], desc, rank\n",
    "\n",
    "\n",
    "def _log(start_time, mean, std, min_score, max_score, it, loss, loss_mcts, loss_final):\n",
    "    # assert torch.isclose(loss_mcts + loss_final + loss_max, loss)\n",
    "    \n",
    "    duration = time.time() - start_time\n",
    "    log_dict = {\n",
    "        \"time\": duration,\n",
    "        \"mean\": mean,\n",
    "        \"std\": std,\n",
    "        \"min score\": min_score,\n",
    "        \"max score\": max_score,\n",
    "        \"loss\": loss,\n",
    "        \"loss [mcts]\": loss_mcts,\n",
    "        \"loss [final]\": loss_final,\n",
    "        \"lr\": optimizer.param_groups[0]['lr']  # valid only with one param group for optimizer\n",
    "    }\n",
    "\n",
    "    if it % config[\"test after . epochs\"] == 0:\n",
    "        wins, scores, desc, rank = _eval_against_players(agent, model, rounds=config[\"test_games\"])\n",
    "        for d, w, s in zip(desc, wins, scores):\n",
    "            log_dict[d + \" wins %\"] = w\n",
    "            log_dict[d + \" [[avg score]]\"] = s\n",
    "        log_dict[\"rank\"] = rank\n",
    "        \n",
    "    wandb.log(log_dict)\n",
    "\n",
    "\n",
    "\n",
    "def learn_episode(agent: MctsPlayer, model: torch.nn.Module, n_games, batch_size, m_training):\n",
    "    expert_memory = []   \n",
    "    \n",
    "    # for logging..\n",
    "    _scores = []\n",
    "    loss = 0\n",
    "    loss_mcts = 0\n",
    "    loss_final = 0\n",
    "\n",
    "    #############################################################################\n",
    "    #                           playing phase\n",
    "    #############################################################################\n",
    "    \n",
    "    model.eval()\n",
    "    for game in trange(n_games, desc=\"Game playing phase\", leave=None, position=1):\n",
    "        agent.reset()\n",
    "        cards = [i for i in range(1, 13+1) for _ in range(4)]\n",
    "        random.shuffle(cards)\n",
    "\n",
    "        # game memory - all states visited during mcts\n",
    "        game_memory = []\n",
    "        \n",
    "        # which states were actually played\n",
    "        true_states = []\n",
    "\n",
    "        # play all the moves till the end\n",
    "        for move in trange(5*5, desc=\"Playing moves\", leave=None, position=2):\n",
    "            state = deepcopy(agent.board.grid)\n",
    "            card = cards[move]\n",
    "            estimate, root = agent.move_(card)\n",
    "            visited_states = extract(root)\n",
    "            for b, e, v, d, h in visited_states:\n",
    "                for s in all_symmetries(b):\n",
    "                    game_memory.append((s, e, v, d, h))\n",
    "            true_states.append(visited_states[0])\n",
    "\n",
    "        final_score = agent.board.score()\n",
    "        _scores.append(final_score)\n",
    "        \n",
    "        for board, exp, visits, depth, height in true_states:\n",
    "            for s in all_symmetries(board):\n",
    "                expert_memory.append((s, final_score, exp, visits, depth, height))\n",
    "        for b, e, v, d, h in game_memory:\n",
    "            expert_memory.append((b, None, e, v, d, h))\n",
    "\n",
    "            \n",
    "    #############################################################################\n",
    "    #                           training phase\n",
    "    #############################################################################\n",
    "    \n",
    "    model.train()\n",
    "    weights = [entry[3] for entry in expert_memory]  # visit counts\n",
    "    _s = sum(weights)\n",
    "    weights = [w/_s for w in weights]\n",
    "    indices = np.random.choice(len(expert_memory), size=(m_training, batch_size), replace=m_training*batch_size > len(expert_memory), p=weights)\n",
    "    \n",
    "    for train in trange(m_training, desc=\"Training loop\", leave=None, position=1):\n",
    "        batch = [expert_memory[idx] for idx in indices[train]]\n",
    "        \n",
    "        for with_final in (True, False):  # two passes, one for played states, one for hypothetical        \n",
    "            boards, reals, exps, viss, deps, heis = [], [], [], [], [], []\n",
    "            for b, real, exp, vis, dep, hei in batch:\n",
    "                if (real is not None) == with_final:\n",
    "                    boards.append(b)\n",
    "                    reals.append(real)\n",
    "                    exps.append(exp)\n",
    "                    viss.append(vis)\n",
    "                    deps.append(dep)\n",
    "                    heis.append(hei)\n",
    "\n",
    "            if boards:                \n",
    "                \n",
    "                optimizer.zero_grad()\n",
    "                outs = torch.squeeze(model(torch.tensor(boards, device=dev)), dim=1)\n",
    "                target = config[\"target-scale\"] * torch.tensor(exps, device=dev)\n",
    "                \n",
    "                _mcts_loss_norm = torch.log(torch.tensor(viss, device=dev) + 1) / (torch.tensor(heis, device=dev) + 1)\n",
    "                _mcts_loss = torch.mean(config[\"alpha\"] * _mcts_loss_norm * (target - outs)**2)\n",
    "                \n",
    "                _final_coef = (math.log(2) + 1) / (1 + torch.log(1 + torch.tensor(heis, device=dev)))\n",
    "                _final_loss = 0 if not with_final else torch.mean(config[\"beta\"] * _final_coef * _mcts_loss_norm * (torch.tensor(reals, device=dev) - outs)**2)\n",
    "                \n",
    "                _loss = _mcts_loss + _final_loss\n",
    "                \n",
    "                if torch.any(torch.isnan(_loss)):\n",
    "                    raise RuntimeError(\"NaN detected, instable learning...\" + f\"{_mcts_loss_norm=}\\t{_mcts_loss=}\\t{_final_loss=}\")\n",
    "                    \n",
    "                _loss.backward()\n",
    "                torch.nn.utils.clip_grad_norm_(model.parameters(), config[\"max-gradient-norm\"]) \n",
    "                optimizer.step()\n",
    "                \n",
    "                with torch.no_grad():\n",
    "                    loss += _loss / m_training\n",
    "                    loss_mcts += _mcts_loss / m_training\n",
    "                    if with_final:\n",
    "                        loss_final += _final_loss / m_training\n",
    "            \n",
    "    scheduler1.step()  \n",
    "    scheduler2.step(loss_mcts)\n",
    "    \n",
    "    return (\n",
    "        statistics.mean(_scores), \n",
    "        statistics.stdev(_scores),\n",
    "        min(_scores),\n",
    "        max(_scores),\n",
    "        loss,\n",
    "        loss_mcts,\n",
    "        loss_final\n",
    "    )\n"
   ]
  },
  {
   "attachments": {},
   "cell_type": "markdown",
   "metadata": {},
   "source": [
    "## Pre-training"
   ]
  },
  {
   "cell_type": "code",
   "execution_count": 50,
   "metadata": {
    "tags": []
   },
   "outputs": [
    {
     "data": {
      "application/vnd.jupyter.widget-view+json": {
       "model_id": "7136125cd290410aab9b723268b3bcfe",
       "version_major": 2,
       "version_minor": 0
      },
      "text/plain": [
       "Pretraining:   0%|          | 0/128 [00:00<?, ?it/s]"
      ]
     },
     "metadata": {},
     "output_type": "display_data"
    }
   ],
   "source": [
    "if config[\"pretrain\"] is not None:\n",
    "    losses = []\n",
    "    lr = []\n",
    "    \n",
    "    o = torch.optim.Adam(model.parameters(), lr=config[\"pretrain\"][\"start-lr\"])\n",
    "    # s = torch.optim.lr_scheduler.ExponentialLR(o, gamma=config[\"pretrain\"][\"gamma\"])\n",
    "    s = torch.optim.lr_scheduler.ReduceLROnPlateau(o)\n",
    "    \n",
    "    for epoch in (pbar := trange(config[\"pretrain\"][\"epochs\"], desc=\"Pretraining\")):\n",
    "        boards = []\n",
    "        vals = []\n",
    "        for _ in range(config[\"pretrain\"][\"samples\"]):\n",
    "            deck = [i for i in range(1, 14) for _ in range(4)]\n",
    "            random.shuffle(deck)\n",
    "            b = mathematico.Board()\n",
    "            for r in range(5):\n",
    "                for c in range(5):\n",
    "                    b.make_move((r, c), deck[5*r + c])\n",
    "            boards.append(b.grid)\n",
    "            vals.append(b.score())\n",
    "\n",
    "        _loss_fn = torch.nn.MSELoss()\n",
    "        o.zero_grad()\n",
    "        outs = model(torch.tensor(boards, device=dev))\n",
    "        target = torch.unsqueeze(torch.tensor(vals, device=dev, dtype=outs.dtype), -1)\n",
    "        loss = _loss_fn(outs, target)\n",
    "\n",
    "        loss.backward()\n",
    "        torch.nn.utils.clip_grad_norm_(model.parameters(), config[\"max-gradient-norm\"])\n",
    "        o.step()\n",
    "        s.step(loss)\n",
    "        \n",
    "        if torch.any(torch.isnan(loss)):\n",
    "            print(\"NaN detected...\")\n",
    "            break\n",
    "        \n",
    "        losses.append(loss.sum().detach().numpy())\n",
    "        pbar.set_description(f\"Pretraining (loss: {losses[-1]:.02f})\")\n",
    "        lr.append(o.param_groups[0]['lr'])\n",
    "        \n",
    "    "
   ]
  },
  {
   "cell_type": "code",
   "execution_count": 51,
   "metadata": {
    "tags": []
   },
   "outputs": [
    {
     "data": {
      "image/png": "[encoded data removed]",
      "text/plain": [
       "<Figure size 640x480 with 1 Axes>"
      ]
     },
     "metadata": {},
     "output_type": "display_data"
    },
    {
     "data": {
      "image/png": "[encoded data removed]",
      "text/plain": [
       "<Figure size 640x480 with 1 Axes>"
      ]
     },
     "metadata": {},
     "output_type": "display_data"
    }
   ],
   "source": [
    "plt.plot(losses)\n",
    "ax = plt.gca()\n",
    "ax.set_yscale('log')\n",
    "ax.set_title(\"log-loss\")\n",
    "plt.show()\n",
    "\n",
    "plt.plot(lr)\n",
    "ax = plt.gca()\n",
    "ax.set_yscale('log')\n",
    "ax.set_title(\"learning rate\")\n",
    "plt.show()"
   ]
  },
  {
   "attachments": {},
   "cell_type": "markdown",
   "metadata": {},
   "source": [
    "Check how are the predictions on different boards:"
   ]
  },
  {
   "cell_type": "code",
   "execution_count": 52,
   "metadata": {
    "tags": []
   },
   "outputs": [
    {
     "name": "stdout",
     "output_type": "stream",
     "text": [
      "+--+--+--+--+--+\n",
      "| 1| 2| 3| 4| 5|\n",
      "+--+--+--+--+--+\n",
      "| 1| 2| 3| 4| 5|\n",
      "+--+--+--+--+--+\n",
      "| 1| 2| 3| 4| 5|\n",
      "+--+--+--+--+--+\n",
      "| 1| 2| 3| 4| 5|\n",
      "+--+--+--+--+--+\n",
      "| 6| 7| 8| 9|10|\n",
      "+--+--+--+--+--+\n",
      "Real = 1150\tPredicted = 15.961\n"
     ]
    }
   ],
   "source": [
    "_set = [[1,2,3,4,5]]*4 + [[6,7,8,9,10]]\n",
    "_b = mathematico.Board()\n",
    "for r in range(5):\n",
    "    for c in range(5):\n",
    "        _b.make_move((r, c), _set[r][c])\n",
    "print(_b)\n",
    "\n",
    "with torch.no_grad():\n",
    "    model.eval()\n",
    "    print(f\"Real = {_b.score()}\\tPredicted = {model(torch.tensor([_set])).numpy()[0][0]:.3f}\")"
   ]
  },
  {
   "cell_type": "code",
   "execution_count": 53,
   "metadata": {
    "tags": []
   },
   "outputs": [
    {
     "data": {
      "text/plain": [
       "tensor([[15.9622]])"
      ]
     },
     "metadata": {},
     "output_type": "display_data"
    },
    {
     "data": {
      "text/plain": [
       "tensor([[15.9620]])"
      ]
     },
     "metadata": {},
     "output_type": "display_data"
    },
    {
     "data": {
      "text/plain": [
       "tensor([[15.9611]])"
      ]
     },
     "metadata": {},
     "output_type": "display_data"
    },
    {
     "data": {
      "text/plain": [
       "tensor([[15.9614]])"
      ]
     },
     "metadata": {},
     "output_type": "display_data"
    }
   ],
   "source": [
    "with torch.no_grad():\n",
    "    display(model(torch.tensor([[[0]*5]*5])), model(torch.tensor([[[1]*5]*5])), model(torch.tensor([[[10]*5]*5])), model(torch.tensor([[[13]*5]*5])))"
   ]
  },
  {
   "cell_type": "code",
   "execution_count": 54,
   "metadata": {
    "tags": []
   },
   "outputs": [
    {
     "name": "stdout",
     "output_type": "stream",
     "text": [
      "Real = 40\tPredicted = 15.962\n",
      "Real = 60\tPredicted = 15.963\n",
      "Real = 90\tPredicted = 15.960\n",
      "Real = 30\tPredicted = 15.960\n",
      "Real = 110\tPredicted = 15.963\n",
      "Real = 90\tPredicted = 15.961\n",
      "Real = 70\tPredicted = 15.964\n",
      "Real = 80\tPredicted = 15.962\n",
      "Real = 70\tPredicted = 15.963\n",
      "Real = 120\tPredicted = 15.962\n",
      "Real = 150\tPredicted = 15.962\n",
      "Real = 110\tPredicted = 15.961\n",
      "Real = 90\tPredicted = 15.963\n",
      "Real = 150\tPredicted = 15.962\n",
      "Real = 90\tPredicted = 15.960\n",
      "Real = 90\tPredicted = 15.964\n",
      "Real = 40\tPredicted = 15.963\n",
      "Real = 130\tPredicted = 15.961\n",
      "Real = 60\tPredicted = 15.962\n",
      "Real = 80\tPredicted = 15.960\n",
      "Real = 80\tPredicted = 15.962\n",
      "Real = 60\tPredicted = 15.962\n",
      "Real = 80\tPredicted = 15.964\n",
      "Real = 120\tPredicted = 15.959\n",
      "Real = 50\tPredicted = 15.964\n"
     ]
    }
   ],
   "source": [
    "for _ in range(25):\n",
    "    _b = mathematico.Board()\n",
    "    _deck = [k for k in range(1, 14) for _ in range(4)]\n",
    "    random.shuffle(_deck)\n",
    "    for i in range(5):\n",
    "        for j in range(5):\n",
    "            _b.make_move((i, j), _deck[5*i+j])\n",
    "\n",
    "    # print(_b)\n",
    "    with torch.no_grad():\n",
    "        model.eval()\n",
    "        print(f\"Real = {_b.score()}\\tPredicted = {model(torch.tensor([_b.grid])).numpy()[0][0]:.3f}\")"
   ]
  },
  {
   "attachments": {},
   "cell_type": "markdown",
   "metadata": {},
   "source": [
    "## Training"
   ]
  },
  {
   "cell_type": "code",
   "execution_count": 55,
   "metadata": {
    "tags": []
   },
   "outputs": [
    {
     "data": {
      "application/vnd.jupyter.widget-view+json": {
       "model_id": "2a42517ee6c24a88b7cdc016c854dfc4",
       "version_major": 2,
       "version_minor": 0
      },
      "text/plain": [
       "Epochs:   0%|          | 0/1 [00:00<?, ?it/s]"
      ]
     },
     "metadata": {},
     "output_type": "display_data"
    },
    {
     "data": {
      "application/vnd.jupyter.widget-view+json": {
       "model_id": "748468407cfd4e2d9b33a2834fb36cf7",
       "version_major": 2,
       "version_minor": 0
      },
      "text/plain": [
       "Game playing phase:   0%|          | 0/2 [00:00<?, ?it/s]"
      ]
     },
     "metadata": {},
     "output_type": "display_data"
    },
    {
     "data": {
      "application/vnd.jupyter.widget-view+json": {
       "model_id": "da706226a9af478abcabc9ad29577e7d",
       "version_major": 2,
       "version_minor": 0
      },
      "text/plain": [
       "Playing moves:   0%|          | 0/25 [00:00<?, ?it/s]"
      ]
     },
     "metadata": {},
     "output_type": "display_data"
    },
    {
     "data": {
      "application/vnd.jupyter.widget-view+json": {
       "model_id": "42550bd01fd64269a7e8c8a14b852f6e",
       "version_major": 2,
       "version_minor": 0
      },
      "text/plain": [
       "Playing moves:   0%|          | 0/25 [00:00<?, ?it/s]"
      ]
     },
     "metadata": {},
     "output_type": "display_data"
    },
    {
     "data": {
      "application/vnd.jupyter.widget-view+json": {
       "model_id": "e36aba0fda5349ff887870fd65875a3b",
       "version_major": 2,
       "version_minor": 0
      },
      "text/plain": [
       "Training loop:   0%|          | 0/64 [00:00<?, ?it/s]"
      ]
     },
     "metadata": {},
     "output_type": "display_data"
    }
   ],
   "source": [
    "START = time.time()\n",
    "\n",
    "# _log(START, None, None, None, None, 0, None, None, None)\n",
    "for epoch in trange(1, 1+config[\"n_epochs\"], desc=\"Epochs\"):\n",
    "    mean, std, mini, maxi, L, Lm, Lf = learn_episode(\n",
    "        agent, \n",
    "        model, \n",
    "        n_games=config[\"n_simulated_games\"], \n",
    "        batch_size=config[\"batch_size\"], \n",
    "        m_training=config[\"n_training_loops\"]\n",
    "    ) \n",
    "    \n",
    "    \n",
    "    \n",
    "    if torch.any(torch.isnan(L)) or torch.any(torch.isnan(Lm)):\n",
    "        print(\"Instabilities (NaN), aborting...\")\n",
    "        break\n",
    "    _log(START, mean, std, mini, maxi, epoch, L, Lm, Lf)\n",
    "    \n",
    "    # form of early stopping\n",
    "    if optimizer.param_groups[0]['lr'] < 1e-8:\n",
    "        print(f\"[{epoch=}] Learning rate is too low, aborting...\")\n",
    "        break"
   ]
  },
  {
   "cell_type": "code",
   "execution_count": 56,
   "metadata": {
    "tags": []
   },
   "outputs": [
    {
     "data": {
      "application/vnd.jupyter.widget-view+json": {
       "model_id": "d74b2897ed414767b8fd51d4c728e387",
       "version_major": 2,
       "version_minor": 0
      },
      "text/plain": [
       "Evaluating performance tournament:   0%|          | 0/10 [00:00<?, ?it/s]"
      ]
     },
     "metadata": {},
     "output_type": "display_data"
    },
    {
     "data": {
      "text/html": [
       "Waiting for W&B process to finish... <strong style=\"color:green\">(success).</strong>"
      ],
      "text/plain": [
       "<IPython.core.display.HTML object>"
      ]
     },
     "metadata": {},
     "output_type": "display_data"
    },
    {
     "data": {
      "application/vnd.jupyter.widget-view+json": {
       "model_id": "9e6c9476bdbc4f128d1d77df31994d05",
       "version_major": 2,
       "version_minor": 0
      },
      "text/plain": [
       "VBox(children=(Label(value='0.001 MB of 0.008 MB uploaded (0.000 MB deduped)\\r'), FloatProgress(value=0.175445…"
      ]
     },
     "metadata": {},
     "output_type": "display_data"
    },
    {
     "data": {
      "text/html": [
       "<style>\n",
       "    table.wandb td:nth-child(1) { padding: 0 10px; text-align: left ; width: auto;} td:nth-child(2) {text-align: left ; width: 100%}\n",
       "    .wandb-row { display: flex; flex-direction: row; flex-wrap: wrap; justify-content: flex-start; width: 100% }\n",
       "    .wandb-col { display: flex; flex-direction: column; flex-basis: 100%; flex: 1; padding: 10px; }\n",
       "    </style>\n",
       "<div class=\"wandb-row\"><div class=\"wandb-col\"><h3>Run history:</h3><br/><table class=\"wandb\"><tr><td>loss</td><td>▁</td></tr><tr><td>loss [final]</td><td>▁</td></tr><tr><td>loss [mcts]</td><td>▁</td></tr><tr><td>lr</td><td>▁▁</td></tr><tr><td>max score</td><td>▁</td></tr><tr><td>mcts(simuls) [[avg score]]</td><td>▁</td></tr><tr><td>mcts(simuls) wins %</td><td>▁</td></tr><tr><td>mcts(time) [[avg score]]</td><td>▁</td></tr><tr><td>mcts(time) wins %</td><td>▁</td></tr><tr><td>mean</td><td>▁</td></tr><tr><td>min score</td><td>▁</td></tr><tr><td>random [[avg score]]</td><td>▁</td></tr><tr><td>random wins %</td><td>▁</td></tr><tr><td>rank</td><td>▁</td></tr><tr><td>std</td><td>▁</td></tr><tr><td>time</td><td>▁█</td></tr><tr><td>value net [[avg score]]</td><td>▁</td></tr><tr><td>value net wins %</td><td>▁</td></tr><tr><td>vn+mcts player [[avg score]]</td><td>▁</td></tr><tr><td>vn+mcts player wins %</td><td>▁</td></tr></table><br/></div><div class=\"wandb-col\"><h3>Run summary:</h3><br/><table class=\"wandb\"><tr><td>lr</td><td>0.0048</td></tr><tr><td>mcts(simuls) [[avg score]]</td><td>151.0</td></tr><tr><td>mcts(simuls) wins %</td><td>0.5</td></tr><tr><td>mcts(time) [[avg score]]</td><td>192.0</td></tr><tr><td>mcts(time) wins %</td><td>0.0</td></tr><tr><td>random [[avg score]]</td><td>90.0</td></tr><tr><td>random wins %</td><td>1.0</td></tr><tr><td>rank</td><td>0.6</td></tr><tr><td>time</td><td>193.56479</td></tr><tr><td>value net [[avg score]]</td><td>84.0</td></tr><tr><td>value net wins %</td><td>0.9</td></tr><tr><td>vn+mcts player [[avg score]]</td><td>133.0</td></tr><tr><td>vn+mcts player wins %</td><td>1.0</td></tr></table><br/></div></div>"
      ],
      "text/plain": [
       "<IPython.core.display.HTML object>"
      ]
     },
     "metadata": {},
     "output_type": "display_data"
    },
    {
     "data": {
      "text/html": [
       " View run <strong style=\"color:#cdcd00\">test-run</strong> at: <a href='https://wandb.ai/pa228/PA026/runs/tbsp9ta8' target=\"_blank\">https://wandb.ai/pa228/PA026/runs/tbsp9ta8</a><br/>Synced 5 W&B file(s), 0 media file(s), 0 artifact file(s) and 0 other file(s)"
      ],
      "text/plain": [
       "<IPython.core.display.HTML object>"
      ]
     },
     "metadata": {},
     "output_type": "display_data"
    },
    {
     "data": {
      "text/html": [
       "Find logs at: <code>./wandb/run-20230511_180230-tbsp9ta8/logs</code>"
      ],
      "text/plain": [
       "<IPython.core.display.HTML object>"
      ]
     },
     "metadata": {},
     "output_type": "display_data"
    }
   ],
   "source": [
    "_log(START, None, None, None, None, 100*config['test after . epochs'], None, None, None)\n",
    "wandb.finish()"
   ]
  },
  {
   "attachments": {},
   "cell_type": "markdown",
   "metadata": {},
   "source": [
    "## Evaluation"
   ]
  },
  {
   "attachments": {},
   "cell_type": "markdown",
   "metadata": {},
   "source": [
    "Create a random game and observe, how the predictions change over time:"
   ]
  },
  {
   "cell_type": "code",
   "execution_count": 57,
   "metadata": {
    "tags": []
   },
   "outputs": [
    {
     "data": {
      "application/vnd.jupyter.widget-view+json": {
       "model_id": "54a87d0771f443a48b5a31f82f3272a9",
       "version_major": 2,
       "version_minor": 0
      },
      "text/plain": [
       "Playing moves:   0%|          | 0/25 [00:00<?, ?it/s]"
      ]
     },
     "metadata": {},
     "output_type": "display_data"
    },
    {
     "name": "stdout",
     "output_type": "stream",
     "text": [
      "\n",
      "\n",
      "\n",
      "[[0, 0, 0, 1, 0],\n",
      " [0, 0, 0, 0, 0],\n",
      " [0, 0, 0, 0, 0],\n",
      " [0, 0, 0, 0, 0],\n",
      " [0, 0, 0, 0, 0]]\n",
      "expected (mcts) score                  88.0\n",
      "computed (vn) score                    71.3\n",
      "game (true) score                     100.0\n",
      "visits=10\tdepth=0\theight=24\n",
      "\n",
      "\n",
      "\n",
      "[[0, 0, 0, 1, 0],\n",
      " [0, 0, 0, 0, 10],\n",
      " [0, 0, 0, 0, 0],\n",
      " [0, 0, 0, 0, 0],\n",
      " [0, 0, 0, 0, 0]]\n",
      "expected (mcts) score                  76.0\n",
      "computed (vn) score                    71.3\n",
      "game (true) score                     100.0\n",
      "visits=10\tdepth=0\theight=23\n",
      "\n",
      "\n",
      "\n",
      "[[0, 0, 0, 1, 0],\n",
      " [0, 0, 0, 0, 10],\n",
      " [0, 13, 0, 0, 0],\n",
      " [0, 0, 0, 0, 0],\n",
      " [0, 0, 0, 0, 0]]\n",
      "expected (mcts) score                  86.0\n",
      "computed (vn) score                    71.3\n",
      "game (true) score                     100.0\n",
      "visits=10\tdepth=0\theight=22\n",
      "\n",
      "\n",
      "\n",
      "[[0, 0, 0, 1, 0],\n",
      " [0, 0, 0, 0, 10],\n",
      " [0, 13, 3, 0, 0],\n",
      " [0, 0, 0, 0, 0],\n",
      " [0, 0, 0, 0, 0]]\n",
      "expected (mcts) score                  98.0\n",
      "computed (vn) score                    71.3\n",
      "game (true) score                     100.0\n",
      "visits=10\tdepth=0\theight=21\n",
      "\n",
      "\n",
      "\n",
      "[[0, 0, 0, 1, 0],\n",
      " [0, 0, 7, 0, 10],\n",
      " [0, 13, 3, 0, 0],\n",
      " [0, 0, 0, 0, 0],\n",
      " [0, 0, 0, 0, 0]]\n",
      "expected (mcts) score                  71.0\n",
      "computed (vn) score                    71.3\n",
      "game (true) score                     100.0\n",
      "visits=10\tdepth=0\theight=20\n",
      "\n",
      "\n",
      "\n",
      "[[0, 0, 0, 1, 0],\n",
      " [0, 0, 7, 0, 10],\n",
      " [0, 13, 3, 3, 0],\n",
      " [0, 0, 0, 0, 0],\n",
      " [0, 0, 0, 0, 0]]\n",
      "expected (mcts) score                 101.0\n",
      "computed (vn) score                    71.3\n",
      "game (true) score                     100.0\n",
      "visits=10\tdepth=0\theight=19\n",
      "\n",
      "\n",
      "\n",
      "[[0, 0, 0, 1, 0],\n",
      " [4, 0, 7, 0, 10],\n",
      " [0, 13, 3, 3, 0],\n",
      " [0, 0, 0, 0, 0],\n",
      " [0, 0, 0, 0, 0]]\n",
      "expected (mcts) score                  98.0\n",
      "computed (vn) score                    71.3\n",
      "game (true) score                     100.0\n",
      "visits=10\tdepth=0\theight=18\n",
      "\n",
      "\n",
      "\n",
      "[[0, 0, 0, 1, 0],\n",
      " [4, 0, 7, 0, 10],\n",
      " [0, 13, 3, 3, 0],\n",
      " [0, 3, 0, 0, 0],\n",
      " [0, 0, 0, 0, 0]]\n",
      "expected (mcts) score                 102.0\n",
      "computed (vn) score                    71.3\n",
      "game (true) score                     100.0\n",
      "visits=10\tdepth=0\theight=17\n",
      "\n",
      "\n",
      "\n",
      "[[0, 0, 5, 1, 0],\n",
      " [4, 0, 7, 0, 10],\n",
      " [0, 13, 3, 3, 0],\n",
      " [0, 3, 0, 0, 0],\n",
      " [0, 0, 0, 0, 0]]\n",
      "expected (mcts) score                  96.0\n",
      "computed (vn) score                    71.3\n",
      "game (true) score                     100.0\n",
      "visits=10\tdepth=0\theight=16\n",
      "\n",
      "\n",
      "\n",
      "[[9, 0, 5, 1, 0],\n",
      " [4, 0, 7, 0, 10],\n",
      " [0, 13, 3, 3, 0],\n",
      " [0, 3, 0, 0, 0],\n",
      " [0, 0, 0, 0, 0]]\n",
      "expected (mcts) score                 106.0\n",
      "computed (vn) score                    71.3\n",
      "game (true) score                     100.0\n",
      "visits=10\tdepth=0\theight=15\n",
      "\n",
      "\n",
      "\n",
      "[[9, 0, 5, 1, 0],\n",
      " [4, 0, 7, 0, 10],\n",
      " [7, 13, 3, 3, 0],\n",
      " [0, 3, 0, 0, 0],\n",
      " [0, 0, 0, 0, 0]]\n",
      "expected (mcts) score                  79.0\n",
      "computed (vn) score                    71.3\n",
      "game (true) score                     100.0\n",
      "visits=10\tdepth=0\theight=14\n",
      "\n",
      "\n",
      "\n",
      "[[9, 0, 5, 1, 0],\n",
      " [4, 0, 7, 0, 10],\n",
      " [7, 13, 3, 3, 0],\n",
      " [5, 3, 0, 0, 0],\n",
      " [0, 0, 0, 0, 0]]\n",
      "expected (mcts) score                  83.0\n",
      "computed (vn) score                    71.3\n",
      "game (true) score                     100.0\n",
      "visits=10\tdepth=0\theight=13\n",
      "\n",
      "\n",
      "\n",
      "[[9, 0, 5, 1, 0],\n",
      " [4, 0, 7, 0, 10],\n",
      " [7, 13, 3, 3, 0],\n",
      " [5, 3, 0, 0, 0],\n",
      " [2, 0, 0, 0, 0]]\n",
      "expected (mcts) score                  87.0\n",
      "computed (vn) score                    71.3\n",
      "game (true) score                     100.0\n",
      "visits=10\tdepth=0\theight=12\n",
      "\n",
      "\n",
      "\n",
      "[[9, 0, 5, 1, 0],\n",
      " [4, 0, 7, 0, 10],\n",
      " [7, 13, 3, 3, 0],\n",
      " [5, 3, 0, 0, 11],\n",
      " [2, 0, 0, 0, 0]]\n",
      "expected (mcts) score                  95.0\n",
      "computed (vn) score                    71.3\n",
      "game (true) score                     100.0\n",
      "visits=10\tdepth=0\theight=11\n",
      "\n",
      "\n",
      "\n",
      "[[9, 0, 5, 1, 0],\n",
      " [4, 0, 7, 0, 10],\n",
      " [7, 13, 3, 3, 0],\n",
      " [5, 3, 0, 0, 11],\n",
      " [2, 0, 0, 6, 0]]\n",
      "expected (mcts) score                  88.0\n",
      "computed (vn) score                    71.3\n",
      "game (true) score                     100.0\n",
      "visits=10\tdepth=0\theight=10\n",
      "\n",
      "\n",
      "\n",
      "[[9, 0, 5, 1, 0],\n",
      " [4, 0, 7, 0, 10],\n",
      " [7, 13, 3, 3, 0],\n",
      " [5, 3, 0, 0, 11],\n",
      " [2, 0, 12, 6, 0]]\n",
      "expected (mcts) score                  86.0\n",
      "computed (vn) score                    71.3\n",
      "game (true) score                     100.0\n",
      "visits=10\tdepth=0\theight=9\n",
      "\n",
      "\n",
      "\n",
      "[[9, 0, 5, 1, 0],\n",
      " [4, 0, 7, 13, 10],\n",
      " [7, 13, 3, 3, 0],\n",
      " [5, 3, 0, 0, 11],\n",
      " [2, 0, 12, 6, 0]]\n",
      "expected (mcts) score                  81.0\n",
      "computed (vn) score                    71.3\n",
      "game (true) score                     100.0\n",
      "visits=10\tdepth=0\theight=8\n",
      "\n",
      "\n",
      "\n",
      "[[9, 0, 5, 1, 0],\n",
      " [4, 0, 7, 13, 10],\n",
      " [7, 13, 3, 3, 0],\n",
      " [5, 3, 0, 0, 11],\n",
      " [2, 0, 12, 6, 4]]\n",
      "expected (mcts) score                  79.0\n",
      "computed (vn) score                    71.3\n",
      "game (true) score                     100.0\n",
      "visits=10\tdepth=0\theight=7\n",
      "\n",
      "\n",
      "\n",
      "[[9, 0, 5, 1, 0],\n",
      " [4, 0, 7, 13, 10],\n",
      " [7, 13, 3, 3, 10],\n",
      " [5, 3, 0, 0, 11],\n",
      " [2, 0, 12, 6, 4]]\n",
      "expected (mcts) score                  78.0\n",
      "computed (vn) score                    71.3\n",
      "game (true) score                     100.0\n",
      "visits=10\tdepth=0\theight=6\n",
      "\n",
      "\n",
      "\n",
      "[[9, 0, 5, 1, 0],\n",
      " [4, 0, 7, 13, 10],\n",
      " [7, 13, 3, 3, 10],\n",
      " [5, 3, 0, 0, 11],\n",
      " [2, 0, 12, 6, 4]]\n",
      "expected (mcts) score                  80.0\n",
      "computed (vn) score                    71.3\n",
      "game (true) score                     100.0\n",
      "visits=11\tdepth=0\theight=6\n",
      "\n",
      "\n",
      "\n",
      "[[9, 0, 5, 1, 0],\n",
      " [4, 0, 7, 13, 10],\n",
      " [7, 13, 3, 3, 10],\n",
      " [5, 3, 0, 6, 11],\n",
      " [2, 2, 12, 6, 4]]\n",
      "expected (mcts) score                  84.0\n",
      "computed (vn) score                    71.3\n",
      "game (true) score                     100.0\n",
      "visits=10\tdepth=0\theight=4\n",
      "\n",
      "\n",
      "\n",
      "[[9, 0, 5, 1, 0],\n",
      " [4, 0, 7, 13, 10],\n",
      " [7, 13, 3, 3, 10],\n",
      " [5, 3, 11, 6, 11],\n",
      " [2, 2, 12, 6, 4]]\n",
      "expected (mcts) score                  84.0\n",
      "computed (vn) score                    71.3\n",
      "game (true) score                     100.0\n",
      "visits=10\tdepth=0\theight=3\n",
      "\n",
      "\n",
      "\n",
      "[[9, 0, 5, 1, 0],\n",
      " [4, 13, 7, 13, 10],\n",
      " [7, 13, 3, 3, 10],\n",
      " [5, 3, 11, 6, 11],\n",
      " [2, 2, 12, 6, 4]]\n",
      "expected (mcts) score                 112.0\n",
      "computed (vn) score                    71.3\n",
      "game (true) score                     100.0\n",
      "visits=10\tdepth=0\theight=2\n",
      "\n",
      "\n",
      "\n",
      "[[9, 0, 5, 1, 0],\n",
      " [4, 13, 7, 13, 10],\n",
      " [7, 13, 3, 3, 10],\n",
      " [5, 3, 11, 6, 11],\n",
      " [2, 2, 12, 6, 4]]\n",
      "expected (mcts) score                 106.4\n",
      "computed (vn) score                    71.3\n",
      "game (true) score                     100.0\n",
      "visits=11\tdepth=0\theight=2\n",
      "\n",
      "\n",
      "\n",
      "[[9, 0, 5, 1, 4],\n",
      " [4, 13, 7, 13, 10],\n",
      " [7, 13, 3, 3, 10],\n",
      " [5, 3, 11, 6, 11],\n",
      " [2, 2, 12, 6, 4]]\n",
      "expected (mcts) score                 100.9\n",
      "computed (vn) score                    71.3\n",
      "game (true) score                     100.0\n",
      "visits=11\tdepth=0\theight=1\n"
     ]
    }
   ],
   "source": [
    "import pprint\n",
    "\n",
    "model.eval()\n",
    "agent.reset()\n",
    "\n",
    "cards = [i for i in range(1, 13+1) for _ in range(4)]\n",
    "random.shuffle(cards)\n",
    "true_states = []\n",
    "\n",
    "# play all the moves till the end\n",
    "for move in trange(5*5, desc=\"Playing moves\", leave=True):\n",
    "    state = deepcopy(agent.board.grid)\n",
    "    card = cards[move]\n",
    "    _, root = agent.move_(card)\n",
    "    visited_states = extract(root)\n",
    "    true_states.append(visited_states[0])\n",
    "\n",
    "final_score = agent.board.score()\n",
    "for board, exp, visits, depth, height in true_states:\n",
    "    with torch.no_grad():\n",
    "        print(\"\\n\\n\")\n",
    "        pprint.pprint(board)\n",
    "        print(f\"expected (mcts) score  {exp:>20.1f}\")\n",
    "        print(f\"computed (vn) score    {model(torch.tensor([b.grid])).numpy()[0][0]:>20.1f}\")\n",
    "        print(f\"game (true) score      {final_score:>20.1f}\")\n",
    "        print(f\"{visits=}\\t{depth=}\\t{height=}\")"
   ]
  }
 ],
 "metadata": {
  "kernelspec": {
   "display_name": "Python 3 (ipykernel)",
   "language": "python",
   "name": "python3"
  },
  "language_info": {
   "codemirror_mode": {
    "name": "ipython",
    "version": 3
   },
   "file_extension": ".py",
   "mimetype": "text/x-python",
   "name": "python",
   "nbconvert_exporter": "python",
   "pygments_lexer": "ipython3",
   "version": "3.11.2"
  }
 },
 "nbformat": 4,
 "nbformat_minor": 4
}

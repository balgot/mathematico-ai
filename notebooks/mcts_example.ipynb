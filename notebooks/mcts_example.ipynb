{
 "cells": [
  {
   "attachments": {},
   "cell_type": "markdown",
   "metadata": {},
   "source": [
    "# Playing the game using only the MCTS agent"
   ]
  },
  {
   "cell_type": "code",
   "execution_count": 1,
   "metadata": {},
   "outputs": [],
   "source": [
    "%load_ext autoreload\n",
    "%autoreload 2"
   ]
  },
  {
   "attachments": {},
   "cell_type": "markdown",
   "metadata": {},
   "source": [
    "## Install"
   ]
  },
  {
   "cell_type": "code",
   "execution_count": 2,
   "metadata": {},
   "outputs": [
    {
     "name": "stdout",
     "output_type": "stream",
     "text": [
      "Note: you may need to restart the kernel to use updated packages.\n",
      "Note: you may need to restart the kernel to use updated packages.\n",
      "Note: you may need to restart the kernel to use updated packages.\n"
     ]
    }
   ],
   "source": [
    "%pip install -qU pip\n",
    "%pip install -q seaborn pandas matplotlib\n",
    "%pip install install --quiet 'git+https://github.com/balgot/mathematico.git#egg=mathematico&subdirectory=game'"
   ]
  },
  {
   "cell_type": "code",
   "execution_count": 3,
   "metadata": {},
   "outputs": [],
   "source": [
    "import os\n",
    "import sys\n",
    "sys.path.append(os.path.abspath(os.path.join('../')))\n",
    "\n",
    "\n",
    "from mathematico import Arena, Board, Mathematico\n",
    "from mathematico import Player, HumanPlayer, RandomPlayer, SimulationPlayer\n",
    "\n",
    "import pandas as pd\n",
    "import seaborn as sns\n",
    "import matplotlib.pyplot as plt\n",
    "\n",
    "sns.set()\n",
    "\n",
    "from src.utils import mcts"
   ]
  },
  {
   "attachments": {},
   "cell_type": "markdown",
   "metadata": {},
   "source": [
    "## MCTS Setup"
   ]
  },
  {
   "cell_type": "code",
   "execution_count": 4,
   "metadata": {},
   "outputs": [],
   "source": [
    "from typing import Tuple, Sequence, List\n",
    "from copy import deepcopy\n",
    "from mathematico import Board\n",
    "from random import randrange\n",
    "from collections import Counter\n",
    "\n",
    "\n",
    "# The action type (row and col to play)\n",
    "Action = Tuple[int, int]\n",
    "\n",
    "# The card we are supposed to place on the board\n",
    "Card = int\n",
    "\n",
    "# For representing the available cards, card ↦ number of cards in the deck\n",
    "Deck = dict[Card, int]\n",
    "\n",
    "\n",
    "class MathematicoState(mcts.StateI):\n",
    "    \"\"\"\n",
    "    State of the game, represented by the positions\n",
    "    of the cards already placed on the board and the card\n",
    "    to place.\n",
    "    \"\"\"\n",
    "\n",
    "    def __init__(self, board: Board, number: Card, cards_left: 'Deck | None' = None):\n",
    "        self.board: Board = board\n",
    "        self.number: Card = number\n",
    "        self.deck = cards_left\n",
    "\n",
    "        # count the number of cards available\n",
    "        if self.deck is None:\n",
    "            self.deck = {i: 4 for i in range(1, 14)}\n",
    "            for row in range(board.size):\n",
    "                for col in range(board.size):\n",
    "                    num = board.grid[row][col]\n",
    "                    if num != 0:\n",
    "                        self.deck[num] -= 1\n",
    "                        if not self.deck[num]:\n",
    "                            self.deck.pop(num)\n",
    "\n",
    "    def get_possible_actions(self) -> Sequence[Action]:\n",
    "        return list(self.board.possible_moves())\n",
    "\n",
    "    def take_action(self, action: Action) -> 'list[tuple[mcts.StateI, float]]':\n",
    "        cnt = sum(self.deck.values())\n",
    "        res = []\n",
    "\n",
    "        # find all possible states after playing card: self.number at position action\n",
    "        for card, n in self.deck.items():\n",
    "            board = deepcopy(self.board)\n",
    "            board.make_move(action, self.number)  # take action that leads TO this state\n",
    "            deck = self.deck.copy()  # enough for int ↦ int\n",
    "            deck[self.number] -= 1\n",
    "            if not deck[self.number]:\n",
    "                deck.pop(self.number)\n",
    "            res.append((MathematicoState(board, card, deck), n / cnt))\n",
    "        return res\n",
    "\n",
    "    def is_terminal(self) -> bool:\n",
    "        return self.board.occupied_cells == self.board.size ** 2\n",
    "\n",
    "    def get_reward(self):\n",
    "        return self.board.score()\n",
    "\n",
    "\n",
    "\n",
    "class MctsPlayerRandomRollout(Player):\n",
    "    def __init__(self, max_time, max_iters):\n",
    "        super().__init__()\n",
    "        self._mcts = mcts.MCTS(time_limit=max_time, iters_limit=max_iters)\n",
    "    \n",
    "    def reset(self) -> None:\n",
    "        self.board = Board()\n",
    "\n",
    "    def move(self, number: int):\n",
    "        state = MathematicoState(self.board, number)\n",
    "        action, value = self._mcts.search(state)[0]\n",
    "        # print(f\"[info] Expecting value: {value}\")        \n",
    "        self.board.make_move(action, number)"
   ]
  },
  {
   "attachments": {},
   "cell_type": "markdown",
   "metadata": {},
   "source": [
    "## Single Game"
   ]
  },
  {
   "cell_type": "code",
   "execution_count": 5,
   "metadata": {},
   "outputs": [
    {
     "name": "stdout",
     "output_type": "stream",
     "text": [
      "Note: you may need to restart the kernel to use updated packages.\n"
     ]
    }
   ],
   "source": [
    "import time\n",
    "%pip install -q tqdm\n",
    "from tqdm.notebook import trange\n",
    "\n",
    "class _Arena(Arena):\n",
    "    def run(self, rounds: int = 100, verbose: bool = True, seed = None):\n",
    "        start = time.time()\n",
    "        for _ in trange(rounds):\n",
    "            # initialize a new game\n",
    "            game = Mathematico(seed=seed)\n",
    "            for player in self.players:\n",
    "                player.reset()\n",
    "                game.add_player(player)\n",
    "\n",
    "            # play the game and collect rewards\n",
    "            results = game.play(verbose=True)\n",
    "            for idx, result in enumerate(results):\n",
    "                self.results[idx].append(result)\n",
    "\n",
    "        if verbose:\n",
    "            total_time = time.time() - start\n",
    "            print(f\"Steps run: {rounds}\\tElapsed time: {total_time}\")\n",
    "\n",
    "        return self.results"
   ]
  },
  {
   "cell_type": "code",
   "execution_count": 20,
   "metadata": {},
   "outputs": [],
   "source": [
    "import random\n",
    "random.seed(0)\n",
    "\n",
    "arena = _Arena()\n",
    "SIMULS = [10, 50, 200]\n",
    "\n",
    "for simuls in SIMULS:\n",
    "    player = MctsPlayerRandomRollout(None, max_iters=simuls)\n",
    "    arena.add_player(player)"
   ]
  },
  {
   "cell_type": "code",
   "execution_count": 21,
   "metadata": {},
   "outputs": [
    {
     "data": {
      "application/vnd.jupyter.widget-view+json": {
       "model_id": "10d7314a5c1d489eba19d949f9f528b6",
       "version_major": 2,
       "version_minor": 0
      },
      "text/plain": [
       "  0%|          | 0/1 [00:00<?, ?it/s]"
      ]
     },
     "metadata": {},
     "output_type": "display_data"
    },
    {
     "name": "stdout",
     "output_type": "stream",
     "text": [
      "Moves played:\t[13]\n",
      "Current card:\t3\n",
      "Move number:\t1\n",
      "Players:\t[<__main__.MctsPlayerRandomRollout object at 0x7f197b18af10>, <__main__.MctsPlayerRandomRollout object at 0x7f197b18aa00>, <__main__.MctsPlayerRandomRollout object at 0x7f197b3d6340>]\n",
      "Moves played:\t[13, 3]\n",
      "Current card:\t10\n",
      "Move number:\t2\n",
      "Players:\t[<__main__.MctsPlayerRandomRollout object at 0x7f197b18af10>, <__main__.MctsPlayerRandomRollout object at 0x7f197b18aa00>, <__main__.MctsPlayerRandomRollout object at 0x7f197b3d6340>]\n",
      "Moves played:\t[13, 3, 10]\n",
      "Current card:\t6\n",
      "Move number:\t3\n",
      "Players:\t[<__main__.MctsPlayerRandomRollout object at 0x7f197b18af10>, <__main__.MctsPlayerRandomRollout object at 0x7f197b18aa00>, <__main__.MctsPlayerRandomRollout object at 0x7f197b3d6340>]\n",
      "Moves played:\t[13, 3, 10, 6]\n",
      "Current card:\t1\n",
      "Move number:\t4\n",
      "Players:\t[<__main__.MctsPlayerRandomRollout object at 0x7f197b18af10>, <__main__.MctsPlayerRandomRollout object at 0x7f197b18aa00>, <__main__.MctsPlayerRandomRollout object at 0x7f197b3d6340>]\n",
      "Moves played:\t[13, 3, 10, 6, 1]\n",
      "Current card:\t10\n",
      "Move number:\t5\n",
      "Players:\t[<__main__.MctsPlayerRandomRollout object at 0x7f197b18af10>, <__main__.MctsPlayerRandomRollout object at 0x7f197b18aa00>, <__main__.MctsPlayerRandomRollout object at 0x7f197b3d6340>]\n",
      "Moves played:\t[13, 3, 10, 6, 1, 10]\n",
      "Current card:\t5\n",
      "Move number:\t6\n",
      "Players:\t[<__main__.MctsPlayerRandomRollout object at 0x7f197b18af10>, <__main__.MctsPlayerRandomRollout object at 0x7f197b18aa00>, <__main__.MctsPlayerRandomRollout object at 0x7f197b3d6340>]\n",
      "Moves played:\t[13, 3, 10, 6, 1, 10, 5]\n",
      "Current card:\t3\n",
      "Move number:\t7\n",
      "Players:\t[<__main__.MctsPlayerRandomRollout object at 0x7f197b18af10>, <__main__.MctsPlayerRandomRollout object at 0x7f197b18aa00>, <__main__.MctsPlayerRandomRollout object at 0x7f197b3d6340>]\n",
      "Moves played:\t[13, 3, 10, 6, 1, 10, 5, 3]\n",
      "Current card:\t9\n",
      "Move number:\t8\n",
      "Players:\t[<__main__.MctsPlayerRandomRollout object at 0x7f197b18af10>, <__main__.MctsPlayerRandomRollout object at 0x7f197b18aa00>, <__main__.MctsPlayerRandomRollout object at 0x7f197b3d6340>]\n",
      "Moves played:\t[13, 3, 10, 6, 1, 10, 5, 3, 9]\n",
      "Current card:\t2\n",
      "Move number:\t9\n",
      "Players:\t[<__main__.MctsPlayerRandomRollout object at 0x7f197b18af10>, <__main__.MctsPlayerRandomRollout object at 0x7f197b18aa00>, <__main__.MctsPlayerRandomRollout object at 0x7f197b3d6340>]\n",
      "Moves played:\t[13, 3, 10, 6, 1, 10, 5, 3, 9, 2]\n",
      "Current card:\t8\n",
      "Move number:\t10\n",
      "Players:\t[<__main__.MctsPlayerRandomRollout object at 0x7f197b18af10>, <__main__.MctsPlayerRandomRollout object at 0x7f197b18aa00>, <__main__.MctsPlayerRandomRollout object at 0x7f197b3d6340>]\n",
      "Moves played:\t[13, 3, 10, 6, 1, 10, 5, 3, 9, 2, 8]\n",
      "Current card:\t13\n",
      "Move number:\t11\n",
      "Players:\t[<__main__.MctsPlayerRandomRollout object at 0x7f197b18af10>, <__main__.MctsPlayerRandomRollout object at 0x7f197b18aa00>, <__main__.MctsPlayerRandomRollout object at 0x7f197b3d6340>]\n",
      "Moves played:\t[13, 3, 10, 6, 1, 10, 5, 3, 9, 2, 8, 13]\n",
      "Current card:\t11\n",
      "Move number:\t12\n",
      "Players:\t[<__main__.MctsPlayerRandomRollout object at 0x7f197b18af10>, <__main__.MctsPlayerRandomRollout object at 0x7f197b18aa00>, <__main__.MctsPlayerRandomRollout object at 0x7f197b3d6340>]\n",
      "Moves played:\t[13, 3, 10, 6, 1, 10, 5, 3, 9, 2, 8, 13, 11]\n",
      "Current card:\t4\n",
      "Move number:\t13\n",
      "Players:\t[<__main__.MctsPlayerRandomRollout object at 0x7f197b18af10>, <__main__.MctsPlayerRandomRollout object at 0x7f197b18aa00>, <__main__.MctsPlayerRandomRollout object at 0x7f197b3d6340>]\n",
      "Moves played:\t[13, 3, 10, 6, 1, 10, 5, 3, 9, 2, 8, 13, 11, 4]\n",
      "Current card:\t6\n",
      "Move number:\t14\n",
      "Players:\t[<__main__.MctsPlayerRandomRollout object at 0x7f197b18af10>, <__main__.MctsPlayerRandomRollout object at 0x7f197b18aa00>, <__main__.MctsPlayerRandomRollout object at 0x7f197b3d6340>]\n",
      "Moves played:\t[13, 3, 10, 6, 1, 10, 5, 3, 9, 2, 8, 13, 11, 4, 6]\n",
      "Current card:\t12\n",
      "Move number:\t15\n",
      "Players:\t[<__main__.MctsPlayerRandomRollout object at 0x7f197b18af10>, <__main__.MctsPlayerRandomRollout object at 0x7f197b18aa00>, <__main__.MctsPlayerRandomRollout object at 0x7f197b3d6340>]\n",
      "Moves played:\t[13, 3, 10, 6, 1, 10, 5, 3, 9, 2, 8, 13, 11, 4, 6, 12]\n",
      "Current card:\t12\n",
      "Move number:\t16\n",
      "Players:\t[<__main__.MctsPlayerRandomRollout object at 0x7f197b18af10>, <__main__.MctsPlayerRandomRollout object at 0x7f197b18aa00>, <__main__.MctsPlayerRandomRollout object at 0x7f197b3d6340>]\n",
      "Moves played:\t[13, 3, 10, 6, 1, 10, 5, 3, 9, 2, 8, 13, 11, 4, 6, 12, 12]\n",
      "Current card:\t6\n",
      "Move number:\t17\n",
      "Players:\t[<__main__.MctsPlayerRandomRollout object at 0x7f197b18af10>, <__main__.MctsPlayerRandomRollout object at 0x7f197b18aa00>, <__main__.MctsPlayerRandomRollout object at 0x7f197b3d6340>]\n",
      "Moves played:\t[13, 3, 10, 6, 1, 10, 5, 3, 9, 2, 8, 13, 11, 4, 6, 12, 12, 6]\n",
      "Current card:\t11\n",
      "Move number:\t18\n",
      "Players:\t[<__main__.MctsPlayerRandomRollout object at 0x7f197b18af10>, <__main__.MctsPlayerRandomRollout object at 0x7f197b18aa00>, <__main__.MctsPlayerRandomRollout object at 0x7f197b3d6340>]\n",
      "Moves played:\t[13, 3, 10, 6, 1, 10, 5, 3, 9, 2, 8, 13, 11, 4, 6, 12, 12, 6, 11]\n",
      "Current card:\t10\n",
      "Move number:\t19\n",
      "Players:\t[<__main__.MctsPlayerRandomRollout object at 0x7f197b18af10>, <__main__.MctsPlayerRandomRollout object at 0x7f197b18aa00>, <__main__.MctsPlayerRandomRollout object at 0x7f197b3d6340>]\n"
     ]
    },
    {
     "ename": "ValueError",
     "evalue": "Unknown combination of values: defaultdict(<class 'int'>, {6: 5})",
     "output_type": "error",
     "traceback": [
      "\u001b[0;31m---------------------------------------------------------------------------\u001b[0m",
      "\u001b[0;31mValueError\u001b[0m                                Traceback (most recent call last)",
      "File \u001b[0;32m<timed eval>:1\u001b[0m\n",
      "Cell \u001b[0;32mIn[5], line 16\u001b[0m, in \u001b[0;36m_Arena.run\u001b[0;34m(self, rounds, verbose, seed)\u001b[0m\n\u001b[1;32m     13\u001b[0m     game\u001b[39m.\u001b[39madd_player(player)\n\u001b[1;32m     15\u001b[0m \u001b[39m# play the game and collect rewards\u001b[39;00m\n\u001b[0;32m---> 16\u001b[0m results \u001b[39m=\u001b[39m game\u001b[39m.\u001b[39;49mplay(verbose\u001b[39m=\u001b[39;49m\u001b[39mTrue\u001b[39;49;00m)\n\u001b[1;32m     17\u001b[0m \u001b[39mfor\u001b[39;00m idx, result \u001b[39min\u001b[39;00m \u001b[39menumerate\u001b[39m(results):\n\u001b[1;32m     18\u001b[0m     \u001b[39mself\u001b[39m\u001b[39m.\u001b[39mresults[idx]\u001b[39m.\u001b[39mappend(result)\n",
      "File \u001b[0;32m~/fi/uiprojekt/venv/lib/python3.9/site-packages/mathematico/game/_mathematico.py:104\u001b[0m, in \u001b[0;36mMathematico.play\u001b[0;34m(self, verbose)\u001b[0m\n\u001b[1;32m    102\u001b[0m         \u001b[39mprint\u001b[39m(\u001b[39mself\u001b[39m)\n\u001b[1;32m    103\u001b[0m     \u001b[39mfor\u001b[39;00m player \u001b[39min\u001b[39;00m \u001b[39mself\u001b[39m\u001b[39m.\u001b[39mplayers:\n\u001b[0;32m--> 104\u001b[0m         player\u001b[39m.\u001b[39;49mmove(next_card)\n\u001b[1;32m    105\u001b[0m \u001b[39mreturn\u001b[39;00m [player\u001b[39m.\u001b[39mget_score() \u001b[39mfor\u001b[39;00m player \u001b[39min\u001b[39;00m \u001b[39mself\u001b[39m\u001b[39m.\u001b[39mplayers]\n",
      "Cell \u001b[0;32mIn[4], line 64\u001b[0m, in \u001b[0;36mMctsPlayerRandomRollout.move\u001b[0;34m(self, number)\u001b[0m\n\u001b[1;32m     62\u001b[0m \u001b[39mdef\u001b[39;00m \u001b[39mmove\u001b[39m(\u001b[39mself\u001b[39m, number: \u001b[39mint\u001b[39m):\n\u001b[1;32m     63\u001b[0m     state \u001b[39m=\u001b[39m MathematicoState(\u001b[39mself\u001b[39m\u001b[39m.\u001b[39mboard, number)\n\u001b[0;32m---> 64\u001b[0m     action, value \u001b[39m=\u001b[39m \u001b[39mself\u001b[39;49m\u001b[39m.\u001b[39;49m_mcts\u001b[39m.\u001b[39;49msearch(state)[\u001b[39m0\u001b[39m]\n\u001b[1;32m     65\u001b[0m     \u001b[39m# print(f\"[info] Expecting value: {value}\")        \u001b[39;00m\n\u001b[1;32m     66\u001b[0m     \u001b[39mself\u001b[39m\u001b[39m.\u001b[39mboard\u001b[39m.\u001b[39mmake_move(action, number)\n",
      "File \u001b[0;32m~/fi/uiprojekt/src/utils/mcts.py:182\u001b[0m, in \u001b[0;36mMCTS.search\u001b[0;34m(self, state, stochastic)\u001b[0m\n\u001b[1;32m    180\u001b[0m     \u001b[39mif\u001b[39;00m \u001b[39mnot\u001b[39;00m is_iter_ok(\u001b[39miter\u001b[39m) \u001b[39mor\u001b[39;00m \u001b[39mnot\u001b[39;00m is_time_ok(\u001b[39miter\u001b[39m):\n\u001b[1;32m    181\u001b[0m         \u001b[39mbreak\u001b[39;00m\n\u001b[0;32m--> 182\u001b[0m     \u001b[39mself\u001b[39;49m\u001b[39m.\u001b[39;49mexec_round()\n\u001b[1;32m    184\u001b[0m \u001b[39m# compute the statistics\u001b[39;00m\n\u001b[1;32m    185\u001b[0m actions \u001b[39m=\u001b[39m \u001b[39mlist\u001b[39m(\u001b[39mself\u001b[39m\u001b[39m.\u001b[39mroot\u001b[39m.\u001b[39mchildren\u001b[39m.\u001b[39mkeys())\n",
      "File \u001b[0;32m~/fi/uiprojekt/src/utils/mcts.py:206\u001b[0m, in \u001b[0;36mMCTS.exec_round\u001b[0;34m(self)\u001b[0m\n\u001b[1;32m    204\u001b[0m \u001b[39m\u001b[39m\u001b[39m\"\"\"Do one round of MCTS.\"\"\"\u001b[39;00m\n\u001b[1;32m    205\u001b[0m node \u001b[39m=\u001b[39m \u001b[39mself\u001b[39m\u001b[39m.\u001b[39mselect_node(\u001b[39mself\u001b[39m\u001b[39m.\u001b[39mroot)\n\u001b[0;32m--> 206\u001b[0m reward \u001b[39m=\u001b[39m \u001b[39mself\u001b[39;49m\u001b[39m.\u001b[39;49mrollout(node\u001b[39m.\u001b[39;49mstate)\n\u001b[1;32m    207\u001b[0m \u001b[39mself\u001b[39m\u001b[39m.\u001b[39mbackpropogate(node, reward)\n",
      "File \u001b[0;32m~/fi/uiprojekt/src/utils/mcts.py:56\u001b[0m, in \u001b[0;36mrandom_policy\u001b[0;34m(state)\u001b[0m\n\u001b[1;32m     54\u001b[0m     probabs \u001b[39m=\u001b[39m [p \u001b[39mfor\u001b[39;00m s, p \u001b[39min\u001b[39;00m possible_states]\n\u001b[1;32m     55\u001b[0m     state \u001b[39m=\u001b[39m random\u001b[39m.\u001b[39mchoices(states, probabs, k \u001b[39m=\u001b[39m \u001b[39m1\u001b[39m)[\u001b[39m0\u001b[39m]\n\u001b[0;32m---> 56\u001b[0m \u001b[39mreturn\u001b[39;00m state\u001b[39m.\u001b[39;49mget_reward()\n",
      "Cell \u001b[0;32mIn[4], line 50\u001b[0m, in \u001b[0;36mMathematicoState.get_reward\u001b[0;34m(self)\u001b[0m\n\u001b[1;32m     49\u001b[0m \u001b[39mdef\u001b[39;00m \u001b[39mget_reward\u001b[39m(\u001b[39mself\u001b[39m):\n\u001b[0;32m---> 50\u001b[0m     \u001b[39mreturn\u001b[39;00m \u001b[39mself\u001b[39;49m\u001b[39m.\u001b[39;49mboard\u001b[39m.\u001b[39;49mscore()\n",
      "File \u001b[0;32m~/fi/uiprojekt/venv/lib/python3.9/site-packages/mathematico/game/board.py:227\u001b[0m, in \u001b[0;36mBoard.score\u001b[0;34m(self)\u001b[0m\n\u001b[1;32m    225\u001b[0m \u001b[39mfor\u001b[39;00m i \u001b[39min\u001b[39;00m \u001b[39mrange\u001b[39m(\u001b[39mself\u001b[39m\u001b[39m.\u001b[39msize):\n\u001b[1;32m    226\u001b[0m     total_score \u001b[39m+\u001b[39m\u001b[39m=\u001b[39m evaluate_line(\u001b[39mself\u001b[39m\u001b[39m.\u001b[39mrow_rle(i))\n\u001b[0;32m--> 227\u001b[0m     total_score \u001b[39m+\u001b[39m\u001b[39m=\u001b[39m evaluate_line(\u001b[39mself\u001b[39;49m\u001b[39m.\u001b[39;49mcol_rle(i))\n\u001b[1;32m    229\u001b[0m \u001b[39mfor\u001b[39;00m use_main_diag \u001b[39min\u001b[39;00m [\u001b[39mTrue\u001b[39;00m, \u001b[39mFalse\u001b[39;00m]:\n\u001b[1;32m    230\u001b[0m     diag_score \u001b[39m=\u001b[39m evaluate_line(\u001b[39mself\u001b[39m\u001b[39m.\u001b[39mdiag_rle(use_main_diag))\n",
      "File \u001b[0;32m~/fi/uiprojekt/venv/lib/python3.9/site-packages/mathematico/game/eval.py:71\u001b[0m, in \u001b[0;36mevaluate_line\u001b[0;34m(line_rle)\u001b[0m\n\u001b[1;32m     65\u001b[0m     \u001b[39mreturn\u001b[39;00m FULL_HOUSE\n\u001b[1;32m     67\u001b[0m \u001b[39melse\u001b[39;00m:\n\u001b[1;32m     68\u001b[0m     \u001b[39m# Note that we can't have more different values than five (length\u001b[39;00m\n\u001b[1;32m     69\u001b[0m     \u001b[39m# of the line) and less than two (max four numbers of a kind), thus\u001b[39;00m\n\u001b[1;32m     70\u001b[0m     \u001b[39m# if we get here, there is a mistake\u001b[39;00m\n\u001b[0;32m---> 71\u001b[0m     \u001b[39mraise\u001b[39;00m \u001b[39mValueError\u001b[39;00m(\u001b[39mf\u001b[39m\u001b[39m\"\u001b[39m\u001b[39mUnknown combination of values: \u001b[39m\u001b[39m{\u001b[39;00mline_rle\u001b[39m}\u001b[39;00m\u001b[39m\"\u001b[39m)\n",
      "\u001b[0;31mValueError\u001b[0m: Unknown combination of values: defaultdict(<class 'int'>, {6: 5})"
     ]
    }
   ],
   "source": [
    "%%time\n",
    "print(arena.run(seed=1, rounds=1))"
   ]
  },
  {
   "cell_type": "code",
   "execution_count": null,
   "metadata": {},
   "outputs": [
    {
     "name": "stdout",
     "output_type": "stream",
     "text": [
      "\n",
      "\n",
      "\n",
      "# simulations: 10\n",
      "=================\n",
      "+--+--+--+--+--+\n",
      "|13| 3|10| 6| 1|\n",
      "+--+--+--+--+--+\n",
      "|10| 5| 3| 9| 2|\n",
      "+--+--+--+--+--+\n",
      "| 8|13|11| 4| 6|\n",
      "+--+--+--+--+--+\n",
      "|12|12| 6|11|10|\n",
      "+--+--+--+--+--+\n",
      "| 4|13| 9| 6| 7|\n",
      "+--+--+--+--+--+\n",
      "\n",
      "\n",
      "\n",
      "\n",
      "# simulations: 300\n",
      "=================\n",
      "+--+--+--+--+--+\n",
      "|13| 3|10| 6| 1|\n",
      "+--+--+--+--+--+\n",
      "|10| 5| 3| 9| 2|\n",
      "+--+--+--+--+--+\n",
      "| 8|13|11| 4| 6|\n",
      "+--+--+--+--+--+\n",
      "|12|12| 6|11|10|\n",
      "+--+--+--+--+--+\n",
      "| 4|13| 9| 6| 7|\n",
      "+--+--+--+--+--+\n",
      "\n"
     ]
    }
   ],
   "source": [
    "for p, x in zip(arena.players, SIMULS):\n",
    "    print(\"\\n\\n\")\n",
    "    print(f\"# simulations: {x}\")\n",
    "    print(\"=================\")\n",
    "    print(p.board)\n",
    "    print()"
   ]
  },
  {
   "cell_type": "code",
   "execution_count": null,
   "metadata": {},
   "outputs": [],
   "source": []
  }
 ],
 "metadata": {
  "kernelspec": {
   "display_name": "venv",
   "language": "python",
   "name": "python3"
  },
  "language_info": {
   "codemirror_mode": {
    "name": "ipython",
    "version": 3
   },
   "file_extension": ".py",
   "mimetype": "text/x-python",
   "name": "python",
   "nbconvert_exporter": "python",
   "pygments_lexer": "ipython3",
   "version": "3.9.16"
  },
  "orig_nbformat": 4
 },
 "nbformat": 4,
 "nbformat_minor": 2
}

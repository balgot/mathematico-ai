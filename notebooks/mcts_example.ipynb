{
 "cells": [
  {
   "attachments": {},
   "cell_type": "markdown",
   "metadata": {},
   "source": [
    "# Playing the game using only the MCTS agent"
   ]
  },
  {
   "cell_type": "code",
   "execution_count": 1,
   "metadata": {},
   "outputs": [],
   "source": [
    "%load_ext autoreload\n",
    "%autoreload 2"
   ]
  },
  {
   "attachments": {},
   "cell_type": "markdown",
   "metadata": {},
   "source": [
    "## Install"
   ]
  },
  {
   "cell_type": "code",
   "execution_count": 2,
   "metadata": {},
   "outputs": [
    {
     "name": "stdout",
     "output_type": "stream",
     "text": [
      "Note: you may need to restart the kernel to use updated packages.\n",
      "Note: you may need to restart the kernel to use updated packages.\n",
      "Note: you may need to restart the kernel to use updated packages.\n"
     ]
    }
   ],
   "source": [
    "%pip install -qU pip\n",
    "%pip install -q seaborn pandas matplotlib\n",
    "%pip install install --quiet 'git+https://github.com/balgot/mathematico.git#egg=mathematico&subdirectory=game'"
   ]
  },
  {
   "cell_type": "code",
   "execution_count": 3,
   "metadata": {},
   "outputs": [],
   "source": [
    "import os\n",
    "import sys\n",
    "sys.path.append(os.path.abspath(os.path.join('../')))\n",
    "\n",
    "\n",
    "from mathematico import Arena, Board, Mathematico\n",
    "from mathematico import Player, HumanPlayer, RandomPlayer, SimulationPlayer\n",
    "\n",
    "import pandas as pd\n",
    "import seaborn as sns\n",
    "import matplotlib.pyplot as plt\n",
    "\n",
    "sns.set()\n",
    "\n",
    "from src.utils import mcts"
   ]
  },
  {
   "attachments": {},
   "cell_type": "markdown",
   "metadata": {},
   "source": [
    "## MCTS Setup"
   ]
  },
  {
   "cell_type": "code",
   "execution_count": 44,
   "metadata": {},
   "outputs": [],
   "source": [
    "from typing import Tuple, Sequence, List\n",
    "from copy import deepcopy\n",
    "from mathematico import Board\n",
    "from random import randrange\n",
    "from collections import Counter\n",
    "\n",
    "\n",
    "# The action type (row and col to play)\n",
    "Action = Tuple[int, int]\n",
    "\n",
    "# The card we are supposed to place on the board\n",
    "Card = int\n",
    "\n",
    "# For representing the available cards, card ↦ number of cards in the deck\n",
    "Deck = dict[Card, int]\n",
    "\n",
    "\n",
    "class MathematicoState(mcts.StateI):\n",
    "    \"\"\"\n",
    "    State of the game, represented by the positions\n",
    "    of the cards already placed on the board and the card\n",
    "    to place.\n",
    "    \"\"\"\n",
    "\n",
    "    def __init__(self, board: Board, number: Card, cards_left: 'Deck | None' = None):\n",
    "        self.board: Board = board\n",
    "        self.number: Card = number\n",
    "        self.deck = cards_left\n",
    "\n",
    "        # count the number of cards available\n",
    "        if self.deck is None:\n",
    "            self.deck = {i: 4 for i in range(1, 14)}\n",
    "            for row in range(board.size):\n",
    "                for col in range(board.size):\n",
    "                    num = board.grid[row][col]\n",
    "                    if num != 0:\n",
    "                        assert num in self.deck, f\"{num=} {row=} {col=} {board=}\"\n",
    "                        self.deck[num] -= 1\n",
    "                        if not self.deck[num]:\n",
    "                            self.deck.pop(num)\n",
    "        \n",
    "        assert number in self.deck, f\"{number=} {cards_left=}\"\n",
    "\n",
    "    def get_possible_actions(self) -> Sequence[Action]:\n",
    "        return list(self.board.possible_moves())\n",
    "\n",
    "    def take_action(self, action: Action) -> 'list[tuple[mcts.StateI, float]]':\n",
    "        cnt = sum(self.deck.values()) - 1  # one card is eliminated anyways\n",
    "        res = []\n",
    "\n",
    "        # find all possible states after playing card: self.number at position action\n",
    "        for card, n in self.deck.items():\n",
    "            if card == self.number and n == 1:\n",
    "                continue\n",
    "            board = deepcopy(self.board)\n",
    "            board.make_move(action, self.number)  # take action that leads TO this state\n",
    "            deck = deepcopy(self.deck) # .copy()  # enough for int ↦ int\n",
    "            deck[self.number] -= 1\n",
    "            if not deck[self.number]:\n",
    "                deck.pop(self.number)\n",
    "            res.append((MathematicoState(board, card, deck), n / cnt))\n",
    "        return res\n",
    "\n",
    "    def is_terminal(self) -> bool:\n",
    "        return self.board.occupied_cells == self.board.size ** 2\n",
    "\n",
    "    def get_reward(self):\n",
    "        return self.board.score()\n",
    "\n",
    "\n",
    "\n",
    "class MctsPlayerRandomRollout(Player):\n",
    "    def __init__(self, max_time, max_iters):\n",
    "        super().__init__()\n",
    "        self._mcts = mcts.MCTS(time_limit=max_time, iters_limit=max_iters)\n",
    "    \n",
    "    def reset(self) -> None:\n",
    "        self.board = Board()\n",
    "\n",
    "    def move(self, number: int):\n",
    "        state = MathematicoState(self.board, number)\n",
    "        action, value = self._mcts.search(state)[0]\n",
    "        # print(f\"[info] Expecting value: {value}\")        \n",
    "        self.board.make_move(action, number)"
   ]
  },
  {
   "attachments": {},
   "cell_type": "markdown",
   "metadata": {},
   "source": [
    "## Single Game"
   ]
  },
  {
   "cell_type": "code",
   "execution_count": 23,
   "metadata": {},
   "outputs": [
    {
     "name": "stdout",
     "output_type": "stream",
     "text": [
      "Note: you may need to restart the kernel to use updated packages.\n"
     ]
    }
   ],
   "source": [
    "import time\n",
    "%pip install -q tqdm\n",
    "from tqdm.notebook import trange\n",
    "\n",
    "class _Arena(Arena):\n",
    "    def run(self, rounds: int = 100, verbose: bool = True, seed = None):\n",
    "        start = time.time()\n",
    "        for _ in trange(rounds):\n",
    "            # initialize a new game\n",
    "            game = Mathematico(seed=seed)\n",
    "            for player in self.players:\n",
    "                player.reset()\n",
    "                game.add_player(player)\n",
    "\n",
    "            # play the game and collect rewards\n",
    "            results = game.play(verbose=True)\n",
    "            for idx, result in enumerate(results):\n",
    "                self.results[idx].append(result)\n",
    "\n",
    "        if verbose:\n",
    "            total_time = time.time() - start\n",
    "            print(f\"Steps run: {rounds}\\tElapsed time: {total_time}\")\n",
    "\n",
    "        return self.results"
   ]
  },
  {
   "cell_type": "code",
   "execution_count": 45,
   "metadata": {},
   "outputs": [],
   "source": [
    "import random\n",
    "random.seed(0)\n",
    "\n",
    "arena = _Arena()\n",
    "SIMULS = [10, 50, 200]\n",
    "\n",
    "for simuls in SIMULS:\n",
    "    player = MctsPlayerRandomRollout(None, max_iters=simuls)\n",
    "    arena.add_player(player)"
   ]
  },
  {
   "cell_type": "code",
   "execution_count": 46,
   "metadata": {},
   "outputs": [
    {
     "data": {
      "application/vnd.jupyter.widget-view+json": {
       "model_id": "61052ac9b22845068f6c1f5402f08faa",
       "version_major": 2,
       "version_minor": 0
      },
      "text/plain": [
       "  0%|          | 0/1 [00:00<?, ?it/s]"
      ]
     },
     "metadata": {},
     "output_type": "display_data"
    },
    {
     "name": "stdout",
     "output_type": "stream",
     "text": [
      "Moves played:\t[13]\n",
      "Current card:\t3\n",
      "Move number:\t1\n",
      "Players:\t[<__main__.MctsPlayerRandomRollout object at 0x7f197aa8c040>, <__main__.MctsPlayerRandomRollout object at 0x7f197aa8c9d0>, <__main__.MctsPlayerRandomRollout object at 0x7f197aa8c160>]\n",
      "Moves played:\t[13, 3]\n",
      "Current card:\t10\n",
      "Move number:\t2\n",
      "Players:\t[<__main__.MctsPlayerRandomRollout object at 0x7f197aa8c040>, <__main__.MctsPlayerRandomRollout object at 0x7f197aa8c9d0>, <__main__.MctsPlayerRandomRollout object at 0x7f197aa8c160>]\n",
      "Moves played:\t[13, 3, 10]\n",
      "Current card:\t6\n",
      "Move number:\t3\n",
      "Players:\t[<__main__.MctsPlayerRandomRollout object at 0x7f197aa8c040>, <__main__.MctsPlayerRandomRollout object at 0x7f197aa8c9d0>, <__main__.MctsPlayerRandomRollout object at 0x7f197aa8c160>]\n",
      "Moves played:\t[13, 3, 10, 6]\n",
      "Current card:\t1\n",
      "Move number:\t4\n",
      "Players:\t[<__main__.MctsPlayerRandomRollout object at 0x7f197aa8c040>, <__main__.MctsPlayerRandomRollout object at 0x7f197aa8c9d0>, <__main__.MctsPlayerRandomRollout object at 0x7f197aa8c160>]\n",
      "Moves played:\t[13, 3, 10, 6, 1]\n",
      "Current card:\t10\n",
      "Move number:\t5\n",
      "Players:\t[<__main__.MctsPlayerRandomRollout object at 0x7f197aa8c040>, <__main__.MctsPlayerRandomRollout object at 0x7f197aa8c9d0>, <__main__.MctsPlayerRandomRollout object at 0x7f197aa8c160>]\n",
      "Moves played:\t[13, 3, 10, 6, 1, 10]\n",
      "Current card:\t5\n",
      "Move number:\t6\n",
      "Players:\t[<__main__.MctsPlayerRandomRollout object at 0x7f197aa8c040>, <__main__.MctsPlayerRandomRollout object at 0x7f197aa8c9d0>, <__main__.MctsPlayerRandomRollout object at 0x7f197aa8c160>]\n",
      "Moves played:\t[13, 3, 10, 6, 1, 10, 5]\n",
      "Current card:\t3\n",
      "Move number:\t7\n",
      "Players:\t[<__main__.MctsPlayerRandomRollout object at 0x7f197aa8c040>, <__main__.MctsPlayerRandomRollout object at 0x7f197aa8c9d0>, <__main__.MctsPlayerRandomRollout object at 0x7f197aa8c160>]\n",
      "Moves played:\t[13, 3, 10, 6, 1, 10, 5, 3]\n",
      "Current card:\t9\n",
      "Move number:\t8\n",
      "Players:\t[<__main__.MctsPlayerRandomRollout object at 0x7f197aa8c040>, <__main__.MctsPlayerRandomRollout object at 0x7f197aa8c9d0>, <__main__.MctsPlayerRandomRollout object at 0x7f197aa8c160>]\n",
      "Moves played:\t[13, 3, 10, 6, 1, 10, 5, 3, 9]\n",
      "Current card:\t2\n",
      "Move number:\t9\n",
      "Players:\t[<__main__.MctsPlayerRandomRollout object at 0x7f197aa8c040>, <__main__.MctsPlayerRandomRollout object at 0x7f197aa8c9d0>, <__main__.MctsPlayerRandomRollout object at 0x7f197aa8c160>]\n",
      "Moves played:\t[13, 3, 10, 6, 1, 10, 5, 3, 9, 2]\n",
      "Current card:\t8\n",
      "Move number:\t10\n",
      "Players:\t[<__main__.MctsPlayerRandomRollout object at 0x7f197aa8c040>, <__main__.MctsPlayerRandomRollout object at 0x7f197aa8c9d0>, <__main__.MctsPlayerRandomRollout object at 0x7f197aa8c160>]\n",
      "Moves played:\t[13, 3, 10, 6, 1, 10, 5, 3, 9, 2, 8]\n",
      "Current card:\t13\n",
      "Move number:\t11\n",
      "Players:\t[<__main__.MctsPlayerRandomRollout object at 0x7f197aa8c040>, <__main__.MctsPlayerRandomRollout object at 0x7f197aa8c9d0>, <__main__.MctsPlayerRandomRollout object at 0x7f197aa8c160>]\n",
      "Moves played:\t[13, 3, 10, 6, 1, 10, 5, 3, 9, 2, 8, 13]\n",
      "Current card:\t11\n",
      "Move number:\t12\n",
      "Players:\t[<__main__.MctsPlayerRandomRollout object at 0x7f197aa8c040>, <__main__.MctsPlayerRandomRollout object at 0x7f197aa8c9d0>, <__main__.MctsPlayerRandomRollout object at 0x7f197aa8c160>]\n",
      "Moves played:\t[13, 3, 10, 6, 1, 10, 5, 3, 9, 2, 8, 13, 11]\n",
      "Current card:\t4\n",
      "Move number:\t13\n",
      "Players:\t[<__main__.MctsPlayerRandomRollout object at 0x7f197aa8c040>, <__main__.MctsPlayerRandomRollout object at 0x7f197aa8c9d0>, <__main__.MctsPlayerRandomRollout object at 0x7f197aa8c160>]\n",
      "Moves played:\t[13, 3, 10, 6, 1, 10, 5, 3, 9, 2, 8, 13, 11, 4]\n",
      "Current card:\t6\n",
      "Move number:\t14\n",
      "Players:\t[<__main__.MctsPlayerRandomRollout object at 0x7f197aa8c040>, <__main__.MctsPlayerRandomRollout object at 0x7f197aa8c9d0>, <__main__.MctsPlayerRandomRollout object at 0x7f197aa8c160>]\n",
      "Moves played:\t[13, 3, 10, 6, 1, 10, 5, 3, 9, 2, 8, 13, 11, 4, 6]\n",
      "Current card:\t12\n",
      "Move number:\t15\n",
      "Players:\t[<__main__.MctsPlayerRandomRollout object at 0x7f197aa8c040>, <__main__.MctsPlayerRandomRollout object at 0x7f197aa8c9d0>, <__main__.MctsPlayerRandomRollout object at 0x7f197aa8c160>]\n",
      "Moves played:\t[13, 3, 10, 6, 1, 10, 5, 3, 9, 2, 8, 13, 11, 4, 6, 12]\n",
      "Current card:\t12\n",
      "Move number:\t16\n",
      "Players:\t[<__main__.MctsPlayerRandomRollout object at 0x7f197aa8c040>, <__main__.MctsPlayerRandomRollout object at 0x7f197aa8c9d0>, <__main__.MctsPlayerRandomRollout object at 0x7f197aa8c160>]\n",
      "Moves played:\t[13, 3, 10, 6, 1, 10, 5, 3, 9, 2, 8, 13, 11, 4, 6, 12, 12]\n",
      "Current card:\t6\n",
      "Move number:\t17\n",
      "Players:\t[<__main__.MctsPlayerRandomRollout object at 0x7f197aa8c040>, <__main__.MctsPlayerRandomRollout object at 0x7f197aa8c9d0>, <__main__.MctsPlayerRandomRollout object at 0x7f197aa8c160>]\n",
      "Moves played:\t[13, 3, 10, 6, 1, 10, 5, 3, 9, 2, 8, 13, 11, 4, 6, 12, 12, 6]\n",
      "Current card:\t11\n",
      "Move number:\t18\n",
      "Players:\t[<__main__.MctsPlayerRandomRollout object at 0x7f197aa8c040>, <__main__.MctsPlayerRandomRollout object at 0x7f197aa8c9d0>, <__main__.MctsPlayerRandomRollout object at 0x7f197aa8c160>]\n",
      "Moves played:\t[13, 3, 10, 6, 1, 10, 5, 3, 9, 2, 8, 13, 11, 4, 6, 12, 12, 6, 11]\n",
      "Current card:\t10\n",
      "Move number:\t19\n",
      "Players:\t[<__main__.MctsPlayerRandomRollout object at 0x7f197aa8c040>, <__main__.MctsPlayerRandomRollout object at 0x7f197aa8c9d0>, <__main__.MctsPlayerRandomRollout object at 0x7f197aa8c160>]\n",
      "Moves played:\t[13, 3, 10, 6, 1, 10, 5, 3, 9, 2, 8, 13, 11, 4, 6, 12, 12, 6, 11, 10]\n",
      "Current card:\t4\n",
      "Move number:\t20\n",
      "Players:\t[<__main__.MctsPlayerRandomRollout object at 0x7f197aa8c040>, <__main__.MctsPlayerRandomRollout object at 0x7f197aa8c9d0>, <__main__.MctsPlayerRandomRollout object at 0x7f197aa8c160>]\n",
      "Moves played:\t[13, 3, 10, 6, 1, 10, 5, 3, 9, 2, 8, 13, 11, 4, 6, 12, 12, 6, 11, 10, 4]\n",
      "Current card:\t13\n",
      "Move number:\t21\n",
      "Players:\t[<__main__.MctsPlayerRandomRollout object at 0x7f197aa8c040>, <__main__.MctsPlayerRandomRollout object at 0x7f197aa8c9d0>, <__main__.MctsPlayerRandomRollout object at 0x7f197aa8c160>]\n",
      "Moves played:\t[13, 3, 10, 6, 1, 10, 5, 3, 9, 2, 8, 13, 11, 4, 6, 12, 12, 6, 11, 10, 4, 13]\n",
      "Current card:\t9\n",
      "Move number:\t22\n",
      "Players:\t[<__main__.MctsPlayerRandomRollout object at 0x7f197aa8c040>, <__main__.MctsPlayerRandomRollout object at 0x7f197aa8c9d0>, <__main__.MctsPlayerRandomRollout object at 0x7f197aa8c160>]\n",
      "Moves played:\t[13, 3, 10, 6, 1, 10, 5, 3, 9, 2, 8, 13, 11, 4, 6, 12, 12, 6, 11, 10, 4, 13, 9]\n",
      "Current card:\t6\n",
      "Move number:\t23\n",
      "Players:\t[<__main__.MctsPlayerRandomRollout object at 0x7f197aa8c040>, <__main__.MctsPlayerRandomRollout object at 0x7f197aa8c9d0>, <__main__.MctsPlayerRandomRollout object at 0x7f197aa8c160>]\n",
      "Moves played:\t[13, 3, 10, 6, 1, 10, 5, 3, 9, 2, 8, 13, 11, 4, 6, 12, 12, 6, 11, 10, 4, 13, 9, 6]\n",
      "Current card:\t7\n",
      "Move number:\t24\n",
      "Players:\t[<__main__.MctsPlayerRandomRollout object at 0x7f197aa8c040>, <__main__.MctsPlayerRandomRollout object at 0x7f197aa8c9d0>, <__main__.MctsPlayerRandomRollout object at 0x7f197aa8c160>]\n",
      "Moves played:\t[13, 3, 10, 6, 1, 10, 5, 3, 9, 2, 8, 13, 11, 4, 6, 12, 12, 6, 11, 10, 4, 13, 9, 6, 7]\n",
      "Current card:\tNone\n",
      "Move number:\t25\n",
      "Players:\t[<__main__.MctsPlayerRandomRollout object at 0x7f197aa8c040>, <__main__.MctsPlayerRandomRollout object at 0x7f197aa8c9d0>, <__main__.MctsPlayerRandomRollout object at 0x7f197aa8c160>]\n",
      "Steps run: 1\tElapsed time: 149.63563799858093\n",
      "[[100], [120], [140]]\n",
      "CPU times: user 2min 29s, sys: 36 ms, total: 2min 29s\n",
      "Wall time: 2min 29s\n"
     ]
    }
   ],
   "source": [
    "%%time\n",
    "print(arena.run(seed=1, rounds=1))"
   ]
  },
  {
   "cell_type": "code",
   "execution_count": 47,
   "metadata": {},
   "outputs": [
    {
     "name": "stdout",
     "output_type": "stream",
     "text": [
      "\n",
      "\n",
      "\n",
      "# simulations: 10\n",
      "=================\n",
      "+--+--+--+--+--+\n",
      "| 3| 8|10| 6|10|\n",
      "+--+--+--+--+--+\n",
      "|13|11| 9| 9| 2|\n",
      "+--+--+--+--+--+\n",
      "| 1| 7| 6| 6|13|\n",
      "+--+--+--+--+--+\n",
      "| 6| 4|13| 3|11|\n",
      "+--+--+--+--+--+\n",
      "|10| 4|12|12| 5|\n",
      "+--+--+--+--+--+\n",
      "\n",
      "\n",
      "\n",
      "\n",
      "# simulations: 50\n",
      "=================\n",
      "+--+--+--+--+--+\n",
      "| 3|11| 6| 2| 8|\n",
      "+--+--+--+--+--+\n",
      "|10| 9|12| 1|10|\n",
      "+--+--+--+--+--+\n",
      "|13| 4| 9|12| 7|\n",
      "+--+--+--+--+--+\n",
      "| 6| 4| 6| 6|11|\n",
      "+--+--+--+--+--+\n",
      "|10|13|13| 5| 3|\n",
      "+--+--+--+--+--+\n",
      "\n",
      "\n",
      "\n",
      "\n",
      "# simulations: 200\n",
      "=================\n",
      "+--+--+--+--+--+\n",
      "| 2| 1|13|13| 3|\n",
      "+--+--+--+--+--+\n",
      "| 9|12| 6| 6| 4|\n",
      "+--+--+--+--+--+\n",
      "|10| 5| 6|13| 3|\n",
      "+--+--+--+--+--+\n",
      "| 9|10| 4|10|11|\n",
      "+--+--+--+--+--+\n",
      "| 6| 8| 7|11|12|\n",
      "+--+--+--+--+--+\n",
      "\n"
     ]
    }
   ],
   "source": [
    "for p, x in zip(arena.players, SIMULS):\n",
    "    print(\"\\n\\n\")\n",
    "    print(f\"# simulations: {x}\")\n",
    "    print(\"=================\")\n",
    "    print(p.board)\n",
    "    print()"
   ]
  },
  {
   "cell_type": "code",
   "execution_count": null,
   "metadata": {},
   "outputs": [],
   "source": []
  }
 ],
 "metadata": {
  "kernelspec": {
   "display_name": "venv",
   "language": "python",
   "name": "python3"
  },
  "language_info": {
   "codemirror_mode": {
    "name": "ipython",
    "version": 3
   },
   "file_extension": ".py",
   "mimetype": "text/x-python",
   "name": "python",
   "nbconvert_exporter": "python",
   "pygments_lexer": "ipython3",
   "version": "3.9.16"
  },
  "orig_nbformat": 4
 },
 "nbformat": 4,
 "nbformat_minor": 2
}

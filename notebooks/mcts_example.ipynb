{
 "cells": [
  {
   "cell_type": "code",
   "execution_count": null,
   "metadata": {},
   "outputs": [],
   "source": [
    "from libs.mathematico import Arena\n",
    "from mcts_player import MctsPlayer\n",
    "from alphamatico_player import AlphamaticoPlayer\n",
    "\n",
    "if __name__ == \"__main__\":\n",
    "    player = MctsPlayer()\n",
    "    player2 = AlphamaticoPlayer()\n",
    "    arena = Arena()\n",
    "    arena.add_player(player)\n",
    "    arena.add_player(player2)\n",
    "    \n",
    "    N_ROUNDS = 1\n",
    "    scores = arena.run(seed=0, rounds=N_ROUNDS)\n",
    "    \n",
    "    print(sum(scores[0]) / len(scores[0]))"
   ]
  }
 ],
 "metadata": {
  "language_info": {
   "name": "python"
  },
  "orig_nbformat": 4
 },
 "nbformat": 4,
 "nbformat_minor": 2
}

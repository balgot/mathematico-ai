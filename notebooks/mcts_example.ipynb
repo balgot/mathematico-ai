{
 "cells": [
  {
   "attachments": {},
   "cell_type": "markdown",
   "metadata": {},
   "source": [
    "# Playing the game using only the MCTS agent"
   ]
  },
  {
   "cell_type": "code",
   "execution_count": 1,
   "metadata": {},
   "outputs": [],
   "source": [
    "%load_ext autoreload\n",
    "%autoreload 2"
   ]
  },
  {
   "attachments": {},
   "cell_type": "markdown",
   "metadata": {},
   "source": [
    "## Install"
   ]
  },
  {
   "cell_type": "code",
   "execution_count": 2,
   "metadata": {},
   "outputs": [
    {
     "name": "stdout",
     "output_type": "stream",
     "text": [
      "Note: you may need to restart the kernel to use updated packages.\n",
      "Note: you may need to restart the kernel to use updated packages.\n",
      "Note: you may need to restart the kernel to use updated packages.\n",
      "Note: you may need to restart the kernel to use updated packages.\n"
     ]
    }
   ],
   "source": [
    "%pip install -qU pip\n",
    "%pip install -q tqdm\n",
    "%pip install -q seaborn pandas matplotlib\n",
    "%pip install install --quiet 'git+https://github.com/balgot/mathematico.git#egg=mathematico&subdirectory=game'"
   ]
  },
  {
   "cell_type": "code",
   "execution_count": 3,
   "metadata": {},
   "outputs": [],
   "source": [
    "import os\n",
    "import sys\n",
    "sys.path.append(os.path.abspath(os.path.join('../')))\n",
    "\n",
    "\n",
    "from mathematico import Arena, Board, Mathematico\n",
    "from mathematico import Player, HumanPlayer, RandomPlayer, SimulationPlayer\n",
    "\n",
    "import pandas as pd\n",
    "import seaborn as sns\n",
    "import matplotlib.pyplot as plt\n",
    "\n",
    "sns.set()\n",
    "\n",
    "from src.utils import mcts\n",
    "from src.agents.mcts_player import MctsPlayer"
   ]
  },
  {
   "attachments": {},
   "cell_type": "markdown",
   "metadata": {},
   "source": [
    "## Single Game"
   ]
  },
  {
   "cell_type": "code",
   "execution_count": 4,
   "metadata": {},
   "outputs": [],
   "source": [
    "import time\n",
    "from tqdm.notebook import trange\n",
    "\n",
    "class _Arena(Arena):\n",
    "    def run(self, rounds: int = 100, verbose: bool = True, seed = None):\n",
    "        start = time.time()\n",
    "        for _ in trange(rounds):\n",
    "            # initialize a new game\n",
    "            game = Mathematico(seed=seed)\n",
    "            for player in self.players:\n",
    "                player.reset()\n",
    "                game.add_player(player)\n",
    "\n",
    "            # play the game and collect rewards\n",
    "            results = game.play(verbose=True)\n",
    "            for idx, result in enumerate(results):\n",
    "                self.results[idx].append(result)\n",
    "\n",
    "        if verbose:\n",
    "            total_time = time.time() - start\n",
    "            print(f\"Steps run: {rounds}\\tElapsed time: {total_time}\")\n",
    "\n",
    "        return self.results"
   ]
  },
  {
   "cell_type": "code",
   "execution_count": 5,
   "metadata": {},
   "outputs": [],
   "source": [
    "import random\n",
    "random.seed(0)\n",
    "\n",
    "arena = _Arena()\n",
    "SIMULS = [10, 50, 200]\n",
    "\n",
    "for simuls in SIMULS:\n",
    "    player = MctsPlayer(max_simulations=simuls)\n",
    "    arena.add_player(player)"
   ]
  },
  {
   "cell_type": "code",
   "execution_count": 6,
   "metadata": {},
   "outputs": [
    {
     "data": {
      "application/vnd.jupyter.widget-view+json": {
       "model_id": "8651b8f55e4d40a4850b8fa7f1294118",
       "version_major": 2,
       "version_minor": 0
      },
      "text/plain": [
       "  0%|          | 0/1 [00:00<?, ?it/s]"
      ]
     },
     "metadata": {},
     "output_type": "display_data"
    },
    {
     "name": "stdout",
     "output_type": "stream",
     "text": [
      "Moves played:\t[13]\n",
      "Current card:\t3\n",
      "Move number:\t1\n",
      "Players:\t[<src.agents.mcts_player._mcts_player.MctsPlayer object at 0x7f7e09cafc50>, <src.agents.mcts_player._mcts_player.MctsPlayer object at 0x7f7e09c8bed0>, <src.agents.mcts_player._mcts_player.MctsPlayer object at 0x7f7e09a9fd10>]\n",
      "Moves played:\t[13, 3]\n",
      "Current card:\t10\n",
      "Move number:\t2\n",
      "Players:\t[<src.agents.mcts_player._mcts_player.MctsPlayer object at 0x7f7e09cafc50>, <src.agents.mcts_player._mcts_player.MctsPlayer object at 0x7f7e09c8bed0>, <src.agents.mcts_player._mcts_player.MctsPlayer object at 0x7f7e09a9fd10>]\n",
      "Moves played:\t[13, 3, 10]\n",
      "Current card:\t6\n",
      "Move number:\t3\n",
      "Players:\t[<src.agents.mcts_player._mcts_player.MctsPlayer object at 0x7f7e09cafc50>, <src.agents.mcts_player._mcts_player.MctsPlayer object at 0x7f7e09c8bed0>, <src.agents.mcts_player._mcts_player.MctsPlayer object at 0x7f7e09a9fd10>]\n",
      "Moves played:\t[13, 3, 10, 6]\n",
      "Current card:\t1\n",
      "Move number:\t4\n",
      "Players:\t[<src.agents.mcts_player._mcts_player.MctsPlayer object at 0x7f7e09cafc50>, <src.agents.mcts_player._mcts_player.MctsPlayer object at 0x7f7e09c8bed0>, <src.agents.mcts_player._mcts_player.MctsPlayer object at 0x7f7e09a9fd10>]\n",
      "Moves played:\t[13, 3, 10, 6, 1]\n",
      "Current card:\t10\n",
      "Move number:\t5\n",
      "Players:\t[<src.agents.mcts_player._mcts_player.MctsPlayer object at 0x7f7e09cafc50>, <src.agents.mcts_player._mcts_player.MctsPlayer object at 0x7f7e09c8bed0>, <src.agents.mcts_player._mcts_player.MctsPlayer object at 0x7f7e09a9fd10>]\n",
      "Moves played:\t[13, 3, 10, 6, 1, 10]\n",
      "Current card:\t5\n",
      "Move number:\t6\n",
      "Players:\t[<src.agents.mcts_player._mcts_player.MctsPlayer object at 0x7f7e09cafc50>, <src.agents.mcts_player._mcts_player.MctsPlayer object at 0x7f7e09c8bed0>, <src.agents.mcts_player._mcts_player.MctsPlayer object at 0x7f7e09a9fd10>]\n",
      "Moves played:\t[13, 3, 10, 6, 1, 10, 5]\n",
      "Current card:\t3\n",
      "Move number:\t7\n",
      "Players:\t[<src.agents.mcts_player._mcts_player.MctsPlayer object at 0x7f7e09cafc50>, <src.agents.mcts_player._mcts_player.MctsPlayer object at 0x7f7e09c8bed0>, <src.agents.mcts_player._mcts_player.MctsPlayer object at 0x7f7e09a9fd10>]\n",
      "Moves played:\t[13, 3, 10, 6, 1, 10, 5, 3]\n",
      "Current card:\t9\n",
      "Move number:\t8\n",
      "Players:\t[<src.agents.mcts_player._mcts_player.MctsPlayer object at 0x7f7e09cafc50>, <src.agents.mcts_player._mcts_player.MctsPlayer object at 0x7f7e09c8bed0>, <src.agents.mcts_player._mcts_player.MctsPlayer object at 0x7f7e09a9fd10>]\n",
      "Moves played:\t[13, 3, 10, 6, 1, 10, 5, 3, 9]\n",
      "Current card:\t2\n",
      "Move number:\t9\n",
      "Players:\t[<src.agents.mcts_player._mcts_player.MctsPlayer object at 0x7f7e09cafc50>, <src.agents.mcts_player._mcts_player.MctsPlayer object at 0x7f7e09c8bed0>, <src.agents.mcts_player._mcts_player.MctsPlayer object at 0x7f7e09a9fd10>]\n",
      "Moves played:\t[13, 3, 10, 6, 1, 10, 5, 3, 9, 2]\n",
      "Current card:\t8\n",
      "Move number:\t10\n",
      "Players:\t[<src.agents.mcts_player._mcts_player.MctsPlayer object at 0x7f7e09cafc50>, <src.agents.mcts_player._mcts_player.MctsPlayer object at 0x7f7e09c8bed0>, <src.agents.mcts_player._mcts_player.MctsPlayer object at 0x7f7e09a9fd10>]\n",
      "Moves played:\t[13, 3, 10, 6, 1, 10, 5, 3, 9, 2, 8]\n",
      "Current card:\t13\n",
      "Move number:\t11\n",
      "Players:\t[<src.agents.mcts_player._mcts_player.MctsPlayer object at 0x7f7e09cafc50>, <src.agents.mcts_player._mcts_player.MctsPlayer object at 0x7f7e09c8bed0>, <src.agents.mcts_player._mcts_player.MctsPlayer object at 0x7f7e09a9fd10>]\n",
      "Moves played:\t[13, 3, 10, 6, 1, 10, 5, 3, 9, 2, 8, 13]\n",
      "Current card:\t11\n",
      "Move number:\t12\n",
      "Players:\t[<src.agents.mcts_player._mcts_player.MctsPlayer object at 0x7f7e09cafc50>, <src.agents.mcts_player._mcts_player.MctsPlayer object at 0x7f7e09c8bed0>, <src.agents.mcts_player._mcts_player.MctsPlayer object at 0x7f7e09a9fd10>]\n",
      "Moves played:\t[13, 3, 10, 6, 1, 10, 5, 3, 9, 2, 8, 13, 11]\n",
      "Current card:\t4\n",
      "Move number:\t13\n",
      "Players:\t[<src.agents.mcts_player._mcts_player.MctsPlayer object at 0x7f7e09cafc50>, <src.agents.mcts_player._mcts_player.MctsPlayer object at 0x7f7e09c8bed0>, <src.agents.mcts_player._mcts_player.MctsPlayer object at 0x7f7e09a9fd10>]\n",
      "Moves played:\t[13, 3, 10, 6, 1, 10, 5, 3, 9, 2, 8, 13, 11, 4]\n",
      "Current card:\t6\n",
      "Move number:\t14\n",
      "Players:\t[<src.agents.mcts_player._mcts_player.MctsPlayer object at 0x7f7e09cafc50>, <src.agents.mcts_player._mcts_player.MctsPlayer object at 0x7f7e09c8bed0>, <src.agents.mcts_player._mcts_player.MctsPlayer object at 0x7f7e09a9fd10>]\n",
      "Moves played:\t[13, 3, 10, 6, 1, 10, 5, 3, 9, 2, 8, 13, 11, 4, 6]\n",
      "Current card:\t12\n",
      "Move number:\t15\n",
      "Players:\t[<src.agents.mcts_player._mcts_player.MctsPlayer object at 0x7f7e09cafc50>, <src.agents.mcts_player._mcts_player.MctsPlayer object at 0x7f7e09c8bed0>, <src.agents.mcts_player._mcts_player.MctsPlayer object at 0x7f7e09a9fd10>]\n",
      "Moves played:\t[13, 3, 10, 6, 1, 10, 5, 3, 9, 2, 8, 13, 11, 4, 6, 12]\n",
      "Current card:\t12\n",
      "Move number:\t16\n",
      "Players:\t[<src.agents.mcts_player._mcts_player.MctsPlayer object at 0x7f7e09cafc50>, <src.agents.mcts_player._mcts_player.MctsPlayer object at 0x7f7e09c8bed0>, <src.agents.mcts_player._mcts_player.MctsPlayer object at 0x7f7e09a9fd10>]\n",
      "Moves played:\t[13, 3, 10, 6, 1, 10, 5, 3, 9, 2, 8, 13, 11, 4, 6, 12, 12]\n",
      "Current card:\t6\n",
      "Move number:\t17\n",
      "Players:\t[<src.agents.mcts_player._mcts_player.MctsPlayer object at 0x7f7e09cafc50>, <src.agents.mcts_player._mcts_player.MctsPlayer object at 0x7f7e09c8bed0>, <src.agents.mcts_player._mcts_player.MctsPlayer object at 0x7f7e09a9fd10>]\n",
      "Moves played:\t[13, 3, 10, 6, 1, 10, 5, 3, 9, 2, 8, 13, 11, 4, 6, 12, 12, 6]\n",
      "Current card:\t11\n",
      "Move number:\t18\n",
      "Players:\t[<src.agents.mcts_player._mcts_player.MctsPlayer object at 0x7f7e09cafc50>, <src.agents.mcts_player._mcts_player.MctsPlayer object at 0x7f7e09c8bed0>, <src.agents.mcts_player._mcts_player.MctsPlayer object at 0x7f7e09a9fd10>]\n",
      "Moves played:\t[13, 3, 10, 6, 1, 10, 5, 3, 9, 2, 8, 13, 11, 4, 6, 12, 12, 6, 11]\n",
      "Current card:\t10\n",
      "Move number:\t19\n",
      "Players:\t[<src.agents.mcts_player._mcts_player.MctsPlayer object at 0x7f7e09cafc50>, <src.agents.mcts_player._mcts_player.MctsPlayer object at 0x7f7e09c8bed0>, <src.agents.mcts_player._mcts_player.MctsPlayer object at 0x7f7e09a9fd10>]\n",
      "Moves played:\t[13, 3, 10, 6, 1, 10, 5, 3, 9, 2, 8, 13, 11, 4, 6, 12, 12, 6, 11, 10]\n",
      "Current card:\t4\n",
      "Move number:\t20\n",
      "Players:\t[<src.agents.mcts_player._mcts_player.MctsPlayer object at 0x7f7e09cafc50>, <src.agents.mcts_player._mcts_player.MctsPlayer object at 0x7f7e09c8bed0>, <src.agents.mcts_player._mcts_player.MctsPlayer object at 0x7f7e09a9fd10>]\n",
      "Moves played:\t[13, 3, 10, 6, 1, 10, 5, 3, 9, 2, 8, 13, 11, 4, 6, 12, 12, 6, 11, 10, 4]\n",
      "Current card:\t13\n",
      "Move number:\t21\n",
      "Players:\t[<src.agents.mcts_player._mcts_player.MctsPlayer object at 0x7f7e09cafc50>, <src.agents.mcts_player._mcts_player.MctsPlayer object at 0x7f7e09c8bed0>, <src.agents.mcts_player._mcts_player.MctsPlayer object at 0x7f7e09a9fd10>]\n",
      "Moves played:\t[13, 3, 10, 6, 1, 10, 5, 3, 9, 2, 8, 13, 11, 4, 6, 12, 12, 6, 11, 10, 4, 13]\n",
      "Current card:\t9\n",
      "Move number:\t22\n",
      "Players:\t[<src.agents.mcts_player._mcts_player.MctsPlayer object at 0x7f7e09cafc50>, <src.agents.mcts_player._mcts_player.MctsPlayer object at 0x7f7e09c8bed0>, <src.agents.mcts_player._mcts_player.MctsPlayer object at 0x7f7e09a9fd10>]\n",
      "Moves played:\t[13, 3, 10, 6, 1, 10, 5, 3, 9, 2, 8, 13, 11, 4, 6, 12, 12, 6, 11, 10, 4, 13, 9]\n",
      "Current card:\t6\n",
      "Move number:\t23\n",
      "Players:\t[<src.agents.mcts_player._mcts_player.MctsPlayer object at 0x7f7e09cafc50>, <src.agents.mcts_player._mcts_player.MctsPlayer object at 0x7f7e09c8bed0>, <src.agents.mcts_player._mcts_player.MctsPlayer object at 0x7f7e09a9fd10>]\n",
      "Moves played:\t[13, 3, 10, 6, 1, 10, 5, 3, 9, 2, 8, 13, 11, 4, 6, 12, 12, 6, 11, 10, 4, 13, 9, 6]\n",
      "Current card:\t7\n",
      "Move number:\t24\n",
      "Players:\t[<src.agents.mcts_player._mcts_player.MctsPlayer object at 0x7f7e09cafc50>, <src.agents.mcts_player._mcts_player.MctsPlayer object at 0x7f7e09c8bed0>, <src.agents.mcts_player._mcts_player.MctsPlayer object at 0x7f7e09a9fd10>]\n",
      "Moves played:\t[13, 3, 10, 6, 1, 10, 5, 3, 9, 2, 8, 13, 11, 4, 6, 12, 12, 6, 11, 10, 4, 13, 9, 6, 7]\n",
      "Current card:\tNone\n",
      "Move number:\t25\n",
      "Players:\t[<src.agents.mcts_player._mcts_player.MctsPlayer object at 0x7f7e09cafc50>, <src.agents.mcts_player._mcts_player.MctsPlayer object at 0x7f7e09c8bed0>, <src.agents.mcts_player._mcts_player.MctsPlayer object at 0x7f7e09a9fd10>]\n",
      "Steps run: 1\tElapsed time: 3.7137091159820557\n",
      "[[150], [140], [180]]\n",
      "CPU times: user 3.71 s, sys: 3.55 ms, total: 3.72 s\n",
      "Wall time: 3.71 s\n"
     ]
    }
   ],
   "source": [
    "%%time\n",
    "print(arena.run(seed=1, rounds=1))"
   ]
  },
  {
   "cell_type": "code",
   "execution_count": 7,
   "metadata": {},
   "outputs": [
    {
     "name": "stdout",
     "output_type": "stream",
     "text": [
      "\n",
      "\n",
      "\n",
      "# simulations: 10    score=150\n",
      "==============================\n",
      "+--+--+--+--+--+\n",
      "|13| 6| 6| 6|10|\n",
      "+--+--+--+--+--+\n",
      "|12| 3| 3|10|10|\n",
      "+--+--+--+--+--+\n",
      "| 1| 9| 9| 5| 8|\n",
      "+--+--+--+--+--+\n",
      "|13|13| 2|12| 7|\n",
      "+--+--+--+--+--+\n",
      "| 4|11|11| 6| 4|\n",
      "+--+--+--+--+--+\n",
      "\n",
      "\n",
      "\n",
      "\n",
      "# simulations: 50    score=140\n",
      "==============================\n",
      "+--+--+--+--+--+\n",
      "| 6| 9| 6|11| 2|\n",
      "+--+--+--+--+--+\n",
      "|10|12| 6|11| 8|\n",
      "+--+--+--+--+--+\n",
      "|13|13|12| 9|13|\n",
      "+--+--+--+--+--+\n",
      "| 3| 4|10|10| 3|\n",
      "+--+--+--+--+--+\n",
      "| 4| 7| 1| 5| 6|\n",
      "+--+--+--+--+--+\n",
      "\n",
      "\n",
      "\n",
      "\n",
      "# simulations: 200    score=180\n",
      "===============================\n",
      "+--+--+--+--+--+\n",
      "|12| 4| 6| 6| 8|\n",
      "+--+--+--+--+--+\n",
      "| 9|13| 6|10| 6|\n",
      "+--+--+--+--+--+\n",
      "| 3|13|10| 7|10|\n",
      "+--+--+--+--+--+\n",
      "| 9|13| 5|12|11|\n",
      "+--+--+--+--+--+\n",
      "| 3| 4| 2|11| 1|\n",
      "+--+--+--+--+--+\n",
      "\n"
     ]
    }
   ],
   "source": [
    "for p, x in zip(arena.players, SIMULS):\n",
    "    print(\"\\n\\n\")\n",
    "    header = f\"# simulations: {x}    score={p.board.score()}\"\n",
    "    print(header)\n",
    "    print(\"=\" * len(header))\n",
    "    print(p.board)\n",
    "    print()"
   ]
  }
 ],
 "metadata": {
  "kernelspec": {
   "display_name": "venv",
   "language": "python",
   "name": "python3"
  },
  "language_info": {
   "codemirror_mode": {
    "name": "ipython",
    "version": 3
   },
   "file_extension": ".py",
   "mimetype": "text/x-python",
   "name": "python",
   "nbconvert_exporter": "python",
   "pygments_lexer": "ipython3",
   "version": "3.11.2"
  },
  "orig_nbformat": 4
 },
 "nbformat": 4,
 "nbformat_minor": 2
}

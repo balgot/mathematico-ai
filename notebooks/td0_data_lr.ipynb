{
 "cells": [
  {
   "cell_type": "markdown",
   "metadata": {},
   "source": [
    "# Mathematico RL Agent "
   ]
  },
  {
   "cell_type": "markdown",
   "metadata": {},
   "source": [
    "This notebook contains configuration and code to train a neural network, which is integrated with a `Mathematico` agent to play the game."
   ]
  },
  {
   "cell_type": "code",
   "execution_count": 1,
   "metadata": {
    "tags": []
   },
   "outputs": [
    {
     "name": "stdout",
     "output_type": "stream",
     "text": [
      "Note: you may need to restart the kernel to use updated packages.\n",
      "Note: you may need to restart the kernel to use updated packages.\n",
      "Note: you may need to restart the kernel to use updated packages.\n",
      "Note: you may need to restart the kernel to use updated packages.\n"
     ]
    }
   ],
   "source": [
    "%load_ext autoreload\n",
    "%autoreload 2\n",
    "\n",
    "%pip install -Uq pip\n",
    "%pip install install --quiet 'git+https://github.com/balgot/mathematico.git#egg=mathematico&subdirectory=game'\n",
    "%pip install -q torch torchview torch-summary graphviz\n",
    "%pip install -q tqdm wandb"
   ]
  },
  {
   "cell_type": "markdown",
   "metadata": {},
   "source": [
    "## Algorithm"
   ]
  },
  {
   "cell_type": "markdown",
   "metadata": {},
   "source": [
    "Consider an agent **A** which is using MCTS and neural network *N* to find the\n",
    "best move.\n",
    "\n",
    "This algorithm works as follows: \n",
    "\n",
    "* play *M* games, recording the whole MCTS tree including all statistics and the final outcome (in the expert memory).\n",
    "* sample *k* moves from the memory (experience replay), compute the loss between *N(s)* and expected reward and update the params of the network."
   ]
  },
  {
   "cell_type": "code",
   "execution_count": 2,
   "metadata": {
    "tags": []
   },
   "outputs": [],
   "source": [
    "config = {\n",
    "    \"algorithm\": \"rl td(0) [only state]\",  # rough description of the algorithm\n",
    "    \"name\": \"lucky-duke4\",  # wandb run name\n",
    "    \n",
    "    # random related\n",
    "    \"seed\": 0,\n",
    "    \"test_seed\": 42,  # used for always measuring performance on the same games\n",
    "    \"test after . epochs\": 15,  # how many epochs to train before conducting a tournament between agents\n",
    "    \n",
    "    # neural net\n",
    "    \"network\": \"Dense_board_v1\",  # name of the network to use\n",
    "    \n",
    "    ## pretraining on only final states, uses exponential decay\n",
    "    \"pretrain\": {  # None for no pretraining\n",
    "        \"epochs\": 1024,\n",
    "        \"samples\": 128,\n",
    "        \"start-lr\": 0.001,\n",
    "        \"gamma\": 0.985,\n",
    "        \"weight-decay\": 0.0,  # adam weight decay\n",
    "    },\n",
    "    \n",
    "    ## Optimizer params\n",
    "    \"optimizer\": \"Adam\",  # the only option\n",
    "    \"lr\": 0.005,  # initial learning rate\n",
    "    \"betas\": (0.9, 0.999),\n",
    "    \"weight-decay\": 0.,\n",
    "    \n",
    "    ## LR scheduler params\n",
    "    \"lr-scheduler\": \"ExponentialLR\", # only option for now (used with ReduceLROnPlateau)\n",
    "    \"lr-gamma\": 0.96,  \n",
    "    \n",
    "    ## gradient clipping\n",
    "    \"max-gradient-norm\": 1,\n",
    "    \n",
    "    # about MCTS\n",
    "    ## TODO: add epsilon-greeddy exploration\n",
    "    \"stochastic\": False,  # the only option now is deterministic\n",
    "    \"time_limit\": None,    # milliseconds\n",
    "    \"simuls_limit\": 100, # per move\n",
    "    \"policy repeats\": 1, # how many times to rerun the rollout policy\n",
    "    \"static_policy\": False, # if True, policy just returns the value of the node\n",
    "    \n",
    "    # algo params\n",
    "    \"test_games\": 9,\n",
    "    \"n_simulated_games\": 4,  # at least 2 for stddev to exist\n",
    "    \"sample\": True,  # do random sampling from data or just shuffle, the only option due to RAM contraints\n",
    "    \"batch_size\": 256,  # only applicable if \"sample\" = True\n",
    "    \"n_training_loops\": 64, # per one RL epoch\n",
    "    \"n_epochs\": 200,\n",
    "\n",
    "    # loss function calculation\n",
    "    \"alpha\": 1,  # how well do we approximate MCTS\n",
    "    \"beta\": 0,  # discounted final score approximation\n",
    "    \"target-scale\": 1.005,  # make neural network to overpredict by .5%\n",
    "}\n",
    "\n",
    "assert config[\"optimizer\"] == \"Adam\"\n",
    "assert config[\"lr-scheduler\"] == \"ExponentialLR\"\n",
    "assert config[\"n_simulated_games\"] > 1"
   ]
  },
  {
   "cell_type": "code",
   "execution_count": 3,
   "metadata": {
    "tags": []
   },
   "outputs": [
    {
     "data": {
      "text/plain": [
       "device(type='cpu')"
      ]
     },
     "execution_count": 3,
     "metadata": {},
     "output_type": "execute_result"
    }
   ],
   "source": [
    "import os, sys\n",
    "sys.path.append(os.path.abspath(os.path.join(\"../\")))\n",
    "\n",
    "import random\n",
    "import statistics\n",
    "from copy import deepcopy\n",
    "import time\n",
    "import math\n",
    "import warnings\n",
    "\n",
    "import torch\n",
    "from torchview import draw_graph\n",
    "from torchsummary import summary\n",
    "import numpy as np\n",
    "from tqdm.notebook import trange, tqdm\n",
    "import matplotlib.pyplot as plt\n",
    "import graphviz\n",
    "graphviz.set_jupyter_format('png')  # VS code fix for cropped images from torchview\n",
    "\n",
    "import mathematico\n",
    "from src.utils import mcts\n",
    "from src.utils.extract_data import extract\n",
    "from src.utils.symmetries import all_symmetries\n",
    "import src.nets as nets\n",
    "from src.utils.lr import display_learning_rate\n",
    "\n",
    "\n",
    "########################################\n",
    "# random seed\n",
    "########################################\n",
    "\n",
    "torch.random.manual_seed(config[\"seed\"])\n",
    "random.seed(config[\"seed\"])\n",
    "np.random.seed(config[\"seed\"])\n",
    "\n",
    "\n",
    "########################################\n",
    "# cuda settings\n",
    "########################################\n",
    "\n",
    "USE_CUDA = False\n",
    "if not USE_CUDA:\n",
    "    os.environ[\"CUDA_VISIBLE_DEVICES\"] = \"\"\n",
    "dev = torch.device(\"cuda\") if torch.cuda.is_available() else torch.device(\"cpu\")\n",
    "dev"
   ]
  },
  {
   "cell_type": "markdown",
   "metadata": {},
   "source": [
    "### Neural Network Definition"
   ]
  },
  {
   "cell_type": "markdown",
   "metadata": {},
   "source": [
    "As the input, the network takes `list[list[int]]` - the board and it approximates the value function `V(s) = V(board)`.\n",
    "\n",
    "All inputs are one-hot encoded."
   ]
  },
  {
   "cell_type": "code",
   "execution_count": 4,
   "metadata": {
    "tags": []
   },
   "outputs": [
    {
     "name": "stdout",
     "output_type": "stream",
     "text": [
      "==========================================================================================\n",
      "Layer (type:depth-idx)                   Output Shape              Param #\n",
      "==========================================================================================\n",
      "├─Sequential: 1-1                        [-1, 1]                   --\n",
      "|    └─OneHot: 2-1                       [-1, 1, 5, 5, 14]         --\n",
      "|    └─Flatten: 2-2                      [-1, 350]                 --\n",
      "|    └─DenseBlock: 2-3                   [-1, 1024]                --\n",
      "|    |    └─Sequential: 3-1              [-1, 1024]                --\n",
      "|    |    |    └─Sequential: 4-1         [-1, 1024]                --\n",
      "|    |    |    |    └─Linear: 5-1        [-1, 1024]                359,424\n",
      "|    |    |    |    └─ReLU: 5-2          [-1, 1024]                --\n",
      "|    |    |    |    └─Dropout1d: 5-3     [-1, 1024]                --\n",
      "|    |    |    └─LayerNorm: 4-2          [-1, 1024]                2,048\n",
      "|    └─DenseBlock: 2-4                   [-1, 512]                 --\n",
      "|    |    └─Sequential: 3-2              [-1, 512]                 --\n",
      "|    |    |    └─Sequential: 4-3         [-1, 512]                 --\n",
      "|    |    |    |    └─Linear: 5-4        [-1, 512]                 524,800\n",
      "|    |    |    |    └─ReLU: 5-5          [-1, 512]                 --\n",
      "|    |    |    |    └─Dropout1d: 5-6     [-1, 512]                 --\n",
      "|    └─Linear: 2-5                       [-1, 256]                 131,328\n",
      "|    └─ReLU: 2-6                         [-1, 256]                 --\n",
      "|    └─Linear: 2-7                       [-1, 1]                   257\n",
      "==========================================================================================\n",
      "Total params: 1,017,857\n",
      "Trainable params: 1,017,857\n",
      "Non-trainable params: 0\n",
      "Total mult-adds (M): 4.68\n",
      "==========================================================================================\n",
      "Input size (MB): 0.00\n",
      "Forward/backward pass size (MB): 0.02\n",
      "Params size (MB): 3.88\n",
      "Estimated Total Size (MB): 3.90\n",
      "==========================================================================================\n"
     ]
    }
   ],
   "source": [
    "_nn_cls = getattr(nets, config[\"network\"])\n",
    "model = _nn_cls().to(dev)\n",
    "\n",
    "optimizer = torch.optim.Adam(model.parameters(), lr=config[\"lr\"], betas=config[\"betas\"], weight_decay=config[\"weight-decay\"])\n",
    "scheduler1 = torch.optim.lr_scheduler.ExponentialLR(optimizer, gamma=config[\"lr-gamma\"])\n",
    "scheduler2 = torch.optim.lr_scheduler.ReduceLROnPlateau(optimizer)\n",
    "\n",
    "# create fake input for testing the net and displaying the info\n",
    "_board_batch = torch.tensor([[[0, 1, 11, 12, 13]] * 5] * 32, device=dev)\n",
    "model.forward(_board_batch)\n",
    "summary(model, [(1, 5, 5)], depth=7);"
   ]
  },
  {
   "cell_type": "code",
   "execution_count": 5,
   "metadata": {
    "tags": []
   },
   "outputs": [
    {
     "data": {
      "image/png": "[encoded data removed]",
      "text/plain": [
       "<graphviz.graphs.Digraph at 0x7f6976b17ad0>"
      ]
     },
     "execution_count": 5,
     "metadata": {},
     "output_type": "execute_result"
    }
   ],
   "source": [
    "draw_graph(model, input_data=_board_batch, depth=3, graph_dir=\"LR\").visual_graph"
   ]
  },
  {
   "cell_type": "markdown",
   "metadata": {},
   "source": [
    "Leaning rate:"
   ]
  },
  {
   "cell_type": "code",
   "execution_count": 6,
   "metadata": {
    "tags": []
   },
   "outputs": [
    {
     "data": {
      "image/png": "[encoded data removed]",
      "text/plain": [
       "<Figure size 640x480 with 1 Axes>"
      ]
     },
     "metadata": {},
     "output_type": "display_data"
    }
   ],
   "source": [
    "with warnings.catch_warnings():  # warning about not using step on optimizer\n",
    "    warnings.simplefilter(\"ignore\")\n",
    "    _s = deepcopy(scheduler1)\n",
    "    display_learning_rate(lambda: _s, config['n_epochs'])\n",
    "    ax = plt.gca()\n",
    "    ax.set_yscale('log')\n",
    "    plt.show()\n",
    "\n",
    "    del _s"
   ]
  },
  {
   "cell_type": "markdown",
   "metadata": {},
   "source": [
    "### Weight & Biases Initialisation"
   ]
  },
  {
   "cell_type": "code",
   "execution_count": 7,
   "metadata": {
    "tags": []
   },
   "outputs": [
    {
     "name": "stderr",
     "output_type": "stream",
     "text": [
      "\u001b[34m\u001b[1mwandb\u001b[0m: Currently logged in as: \u001b[33m485135\u001b[0m (\u001b[33mmiba\u001b[0m). Use \u001b[1m`wandb login --relogin`\u001b[0m to force relogin\n"
     ]
    },
    {
     "data": {
      "text/html": [
       "wandb version 0.14.2 is available!  To upgrade, please run:\n",
       " $ pip install wandb --upgrade"
      ],
      "text/plain": [
       "<IPython.core.display.HTML object>"
      ]
     },
     "metadata": {},
     "output_type": "display_data"
    },
    {
     "data": {
      "text/html": [
       "Tracking run with wandb version 0.14.0"
      ],
      "text/plain": [
       "<IPython.core.display.HTML object>"
      ]
     },
     "metadata": {},
     "output_type": "display_data"
    },
    {
     "data": {
      "text/html": [
       "Run data is saved locally in <code>/home/miso/fi/uiprojekt/notebooks/wandb/run-20230417_133607-bnrfspze</code>"
      ],
      "text/plain": [
       "<IPython.core.display.HTML object>"
      ]
     },
     "metadata": {},
     "output_type": "display_data"
    },
    {
     "data": {
      "text/html": [
       "Syncing run <strong><a href='https://wandb.ai/miba/PA026/runs/bnrfspze' target=\"_blank\">lucky-duke4</a></strong> to <a href='https://wandb.ai/miba/PA026' target=\"_blank\">Weights & Biases</a> (<a href='https://wandb.me/run' target=\"_blank\">docs</a>)<br/>"
      ],
      "text/plain": [
       "<IPython.core.display.HTML object>"
      ]
     },
     "metadata": {},
     "output_type": "display_data"
    },
    {
     "data": {
      "text/html": [
       " View project at <a href='https://wandb.ai/miba/PA026' target=\"_blank\">https://wandb.ai/miba/PA026</a>"
      ],
      "text/plain": [
       "<IPython.core.display.HTML object>"
      ]
     },
     "metadata": {},
     "output_type": "display_data"
    },
    {
     "data": {
      "text/html": [
       " View run at <a href='https://wandb.ai/miba/PA026/runs/bnrfspze' target=\"_blank\">https://wandb.ai/miba/PA026/runs/bnrfspze</a>"
      ],
      "text/plain": [
       "<IPython.core.display.HTML object>"
      ]
     },
     "metadata": {},
     "output_type": "display_data"
    },
    {
     "data": {
      "text/html": [
       "<button onClick=\"this.nextSibling.style.display='block';this.style.display='none';\">Display W&B run</button><iframe src='https://wandb.ai/miba/PA026/runs/bnrfspze?jupyter=true' style='border:none;width:100%;height:420px;display:none;'></iframe>"
      ],
      "text/plain": [
       "<wandb.sdk.wandb_run.Run at 0x7f696cb94910>"
      ]
     },
     "execution_count": 7,
     "metadata": {},
     "output_type": "execute_result"
    }
   ],
   "source": [
    "import wandb\n",
    "wandb.init(config=config, project=\"PA026\", name=config.get(\"name\", None), settings=wandb.Settings(start_method=\"fork\"))"
   ]
  },
  {
   "cell_type": "markdown",
   "metadata": {},
   "source": [
    "### Agent"
   ]
  },
  {
   "cell_type": "code",
   "execution_count": 8,
   "metadata": {
    "tags": []
   },
   "outputs": [],
   "source": [
    "from src.agents.mcts_player import MctsPlayer, CardState, MoveState\n",
    "\n",
    "def policy_static(state: mcts.StateI) -> float:\n",
    "    board = torch.tensor([state.board.grid])\n",
    "    return model(board)\n",
    "\n",
    "\n",
    "def policy_dynamic(state: mcts.StateI) -> float:\n",
    "    _board = deepcopy(state.board)\n",
    "    _possible_moves = set(_board.possible_moves())\n",
    "    _deck = [k for k, v in state.deck.items() for _ in range(v)]\n",
    "    random.shuffle(_deck)\n",
    "    \n",
    "    def mmove(move, card):\n",
    "        b = deepcopy(_board.grid)\n",
    "        b[move[0]][move[1]] = card\n",
    "        return b\n",
    "    \n",
    "    with torch.no_grad():\n",
    "        for i in range(len(_possible_moves)):\n",
    "            batch = torch.tensor([\n",
    "                mmove(move, _deck[i]) for move in _possible_moves\n",
    "            ])\n",
    "            out = model(batch)\n",
    "            idx = torch.argmax(out)\n",
    "            move = list(_possible_moves)[idx]\n",
    "            _board.make_move(move, _deck[i])\n",
    "            _possible_moves.discard(move)\n",
    "        return _board.score()\n",
    "            \n",
    "        \n",
    "        \n",
    "def repeated_dynamic(state):\n",
    "    total = 0\n",
    "    REPS = config['policy repeats']\n",
    "    for _ in range(REPS):\n",
    "        total += policy_dynamic(state)\n",
    "    return total / REPS       \n",
    "    \n",
    "\n",
    "\n",
    "agent = MctsPlayer(\n",
    "    max_time_ms=config[\"time_limit\"], \n",
    "    max_simulations=config[\"simuls_limit\"], \n",
    "    policy=policy_static if config[\"static_policy\"] else repeated_dynamic\n",
    ")"
   ]
  },
  {
   "cell_type": "markdown",
   "metadata": {},
   "source": [
    "check it works by playing a random game"
   ]
  },
  {
   "cell_type": "code",
   "execution_count": 9,
   "metadata": {
    "tags": []
   },
   "outputs": [
    {
     "name": "stdout",
     "output_type": "stream",
     "text": [
      "Steps run: 1\tElapsed time: 22.100690603256226\n",
      "per_move_sec=0.8840533351898193\n",
      "CPU times: user 1min 28s, sys: 181 ms, total: 1min 28s\n",
      "Wall time: 22.1 s\n"
     ]
    }
   ],
   "source": [
    "%%time\n",
    "\n",
    "start = time.time()\n",
    "arena = mathematico.Arena()\n",
    "arena.add_player(agent)\n",
    "arena.run(seed=0, rounds=1, verbose=True)\n",
    "end = time.time()\n",
    "\n",
    "per_move_sec = (end - start) / (5 * 5)\n",
    "print(f\"{per_move_sec=}\")"
   ]
  },
  {
   "cell_type": "markdown",
   "metadata": {},
   "source": [
    "## Training"
   ]
  },
  {
   "cell_type": "markdown",
   "metadata": {},
   "source": [
    "#### Utils"
   ]
  },
  {
   "cell_type": "code",
   "execution_count": 10,
   "metadata": {
    "tags": []
   },
   "outputs": [],
   "source": [
    "class VNPlayer(mathematico.Player):\n",
    "    def reset(self):\n",
    "        self.board = mathematico.Board()\n",
    "        \n",
    "    def move(self, card: int) -> None:\n",
    "        possibles = list(self.board.possible_moves())\n",
    "        \n",
    "        def place(row, col):\n",
    "            _g = deepcopy(self.board.grid)\n",
    "            _g[row][col] = card\n",
    "            return _g\n",
    "        \n",
    "        batch = torch.tensor([place(row, col) for row, col in possibles], device=dev)\n",
    "        scores = model(batch)\n",
    "        idx = torch.argmax(scores)\n",
    "        row, col = possibles[idx]\n",
    "        self.board.make_move((row, col), card)\n",
    "\n",
    "\n",
    "def _eval_against_players(agent, model, rounds):\n",
    "    \"\"\"\n",
    "    Evaluate the agent against:\n",
    "        1. random player\n",
    "        2. mcts player with same time for a game (not very precise..)\n",
    "        3. mcts with same number of simuls\n",
    "        4. only value network\n",
    "        \n",
    "    Returns:\n",
    "        win rate for 1, 2, 3, 4\n",
    "        avg score for 1, 2, 3, 4\n",
    "        descriptions\n",
    "        ranking value (avg number of player defeated)\n",
    "    \"\"\"\n",
    "    model.eval()\n",
    "    players = [\n",
    "        agent, \n",
    "        mathematico.RandomPlayer(), \n",
    "        MctsPlayer(max_time_ms=per_move_sec * 1000),\n",
    "        MctsPlayer(max_simulations=config[\"simuls_limit\"]),\n",
    "        VNPlayer()\n",
    "    ]\n",
    "    \n",
    "    desc = [\"vn+mcts player\", \"random\", \"mcts(time)\", \"mcts(simuls)\", \"value net\"]\n",
    "    \n",
    "    wins_agains = [0 for _ in players]\n",
    "    total_score = [0 for _ in players]\n",
    "    rank = 0\n",
    "    \n",
    "    for _round in trange(rounds, desc=\"Evaluating performance tournament\", leave=None):\n",
    "        game = mathematico.Mathematico(seed=_round + config[\"test_seed\"])\n",
    "        for player in players:\n",
    "            player.reset()\n",
    "            game.add_player(player)\n",
    "            \n",
    "        scores = game.play()\n",
    "        \n",
    "        # first is always our agent\n",
    "        for i in range(len(scores)):\n",
    "            if scores[0] >= scores[i]:\n",
    "                wins_agains[i] += 1\n",
    "                \n",
    "        for i in range(len(scores)):\n",
    "            total_score[i] += scores[i]\n",
    "            \n",
    "        rank += sum(scores[0] >= scores[i] for i in range(1, len(scores)))\n",
    "        \n",
    "    rank /= (rounds * (len(players) - 1))\n",
    "    return [w/rounds for w in wins_agains], [s/rounds for s in total_score], desc, rank\n",
    "\n",
    "\n",
    "def _log(start_time, mean, std, min_score, max_score, it, loss, loss_mcts, loss_final):\n",
    "    # assert torch.isclose(loss_mcts + loss_final + loss_max, loss)\n",
    "    \n",
    "    duration = time.time() - start_time\n",
    "    log_dict = {\n",
    "        \"time\": duration,\n",
    "        \"mean\": mean,\n",
    "        \"std\": std,\n",
    "        \"min score\": min_score,\n",
    "        \"max score\": max_score,\n",
    "        \"loss\": loss,\n",
    "        \"loss [mcts]\": loss_mcts,\n",
    "        \"loss [final]\": loss_final,\n",
    "        \"lr\": optimizer.param_groups[0]['lr']  # valid only with one param group for optimizer\n",
    "    }\n",
    "\n",
    "    if it % config[\"test after . epochs\"] == 0:\n",
    "        wins, scores, desc, rank = _eval_against_players(agent, model, rounds=config[\"test_games\"])\n",
    "        for d, w, s in zip(desc, wins, scores):\n",
    "            log_dict[d + \" wins %\"] = w\n",
    "            log_dict[d + \" [[avg score]]\"] = s\n",
    "        log_dict[\"rank\"] = rank\n",
    "        \n",
    "    wandb.log(log_dict)\n",
    "\n",
    "\n",
    "\n",
    "def learn_episode(agent: MctsPlayer, model: torch.nn.Module, n_games, batch_size, m_training):\n",
    "    expert_memory = []   \n",
    "    \n",
    "    # for logging..\n",
    "    _scores = []\n",
    "    loss = 0\n",
    "    loss_mcts = 0\n",
    "    loss_final = 0\n",
    "\n",
    "    #############################################################################\n",
    "    #                           playing phase\n",
    "    #############################################################################\n",
    "    \n",
    "    model.eval()\n",
    "    for game in trange(n_games, desc=\"Game playing phase\", leave=None, position=1):\n",
    "        agent.reset()\n",
    "        cards = [i for i in range(1, 13+1) for _ in range(4)]\n",
    "        random.shuffle(cards)\n",
    "\n",
    "        # game memory - all states visited during mcts\n",
    "        game_memory = []\n",
    "        \n",
    "        # which states were actually played\n",
    "        true_states = []\n",
    "\n",
    "        # play all the moves till the end\n",
    "        for move in trange(5*5, desc=\"Playing moves\", leave=None, position=2):\n",
    "            state = deepcopy(agent.board.grid)\n",
    "            card = cards[move]\n",
    "            estimate, root = agent.move_(card)\n",
    "            visited_states = extract(root)\n",
    "            for b, e, v, d, h in visited_states:\n",
    "                for s in all_symmetries(b):\n",
    "                    game_memory.append((s, e, v, d, h))\n",
    "            true_states.append(visited_states[0])\n",
    "\n",
    "        final_score = agent.board.score()\n",
    "        _scores.append(final_score)\n",
    "        \n",
    "        for board, exp, visits, depth, height in true_states:\n",
    "            for s in all_symmetries(board):\n",
    "                expert_memory.append((s, final_score, exp, visits, depth, height))\n",
    "        for b, e, v, d, h in game_memory:\n",
    "            expert_memory.append((b, None, e, v, d, h))\n",
    "\n",
    "            \n",
    "    #############################################################################\n",
    "    #                           training phase\n",
    "    #############################################################################\n",
    "    \n",
    "    model.train()\n",
    "    weights = [entry[3] for entry in expert_memory]  # visit counts\n",
    "    _s = sum(weights)\n",
    "    weights = [w/_s for w in weights]\n",
    "    indices = np.random.choice(len(expert_memory), size=(m_training, batch_size), replace=m_training*batch_size > len(expert_memory), p=weights)\n",
    "    \n",
    "    for train in trange(m_training, desc=\"Training loop\", leave=None, position=1):\n",
    "        batch = [expert_memory[idx] for idx in indices[train]]\n",
    "        \n",
    "        for with_final in (True, False):  # two passes, one for played states, one for hypothetical        \n",
    "            boards, reals, exps, viss, deps, heis = [], [], [], [], [], []\n",
    "            for b, real, exp, vis, dep, hei in batch:\n",
    "                if (real is not None) == with_final:\n",
    "                    boards.append(b)\n",
    "                    reals.append(real)\n",
    "                    exps.append(exp)\n",
    "                    viss.append(vis)\n",
    "                    deps.append(dep)\n",
    "                    heis.append(hei)\n",
    "\n",
    "            if boards:\n",
    "                optimizer.zero_grad()\n",
    "                outs = model(torch.tensor(boards))\n",
    "                \n",
    "                _mcts_loss_norm = torch.log(torch.tensor(viss)) / torch.tensor(heis)\n",
    "                _mcts_loss = _mcts_loss_norm * (outs - config['target-scale'] * torch.tensor(exps, device=dev))**2 / len(boards)\n",
    "                # _final_loss = 0 #if not with_final else (outs - torch.tensor(reals, device=dev))**2 * _mcts_loss_norm * (math.log(2) + 1) / (1 + torch.log(torch.tensor(heis) + 1))\n",
    "                _loss = config[\"alpha\"] * _mcts_loss # + config[\"beta\"] * _final_loss\n",
    "                \n",
    "\n",
    "                _loss.sum().backward()\n",
    "                if torch.any(torch.isnan(_loss)):\n",
    "                    print(\"NaN detected...\")\n",
    "                    raise RuntimeError()\n",
    "                torch.nn.utils.clip_grad_norm_(model.parameters(), config[\"max-gradient-norm\"]) \n",
    "                optimizer.step()\n",
    "                \n",
    "                with torch.no_grad():\n",
    "                    loss += torch.sum(_loss) / m_training\n",
    "                    loss_mcts += torch.sum(_mcts_loss) / m_training\n",
    "                    if with_final:\n",
    "                        pass\n",
    "                        #loss_final += torch.sum(_final_loss) / m_training\n",
    "            \n",
    "    scheduler1.step()  \n",
    "    scheduler2.step(loss_mcts)\n",
    "    \n",
    "    return (\n",
    "        statistics.mean(_scores), \n",
    "        statistics.stdev(_scores),\n",
    "        min(_scores),\n",
    "        max(_scores),\n",
    "        loss,\n",
    "        loss_mcts,\n",
    "        loss_final\n",
    "    )\n"
   ]
  },
  {
   "cell_type": "markdown",
   "metadata": {},
   "source": [
    "## Pre-training"
   ]
  },
  {
   "cell_type": "code",
   "execution_count": 11,
   "metadata": {
    "tags": []
   },
   "outputs": [
    {
     "data": {
      "application/vnd.jupyter.widget-view+json": {
       "model_id": "ae28b385c7d04f1ab377c21f7528ba8f",
       "version_major": 2,
       "version_minor": 0
      },
      "text/plain": [
       "Pretraining:   0%|          | 0/1024 [00:00<?, ?it/s]"
      ]
     },
     "metadata": {},
     "output_type": "display_data"
    },
    {
     "data": {
      "image/png": "[encoded data removed]",
      "text/plain": [
       "<Figure size 640x480 with 1 Axes>"
      ]
     },
     "metadata": {},
     "output_type": "display_data"
    },
    {
     "data": {
      "image/png": "[encoded data removed]",
      "text/plain": [
       "<Figure size 640x480 with 1 Axes>"
      ]
     },
     "metadata": {},
     "output_type": "display_data"
    },
    {
     "data": {
      "text/plain": [
       "tensor([[86.3107]])"
      ]
     },
     "metadata": {},
     "output_type": "display_data"
    },
    {
     "data": {
      "text/plain": [
       "tensor([[158.4836]])"
      ]
     },
     "metadata": {},
     "output_type": "display_data"
    },
    {
     "data": {
      "text/plain": [
       "tensor([[95.8585]])"
      ]
     },
     "metadata": {},
     "output_type": "display_data"
    },
    {
     "data": {
      "text/plain": [
       "tensor([[91.7041]])"
      ]
     },
     "metadata": {},
     "output_type": "display_data"
    }
   ],
   "source": [
    "if config[\"pretrain\"] is not None:\n",
    "    losses = []\n",
    "    lr = []\n",
    "    \n",
    "    o = torch.optim.Adam(model.parameters(), lr=config[\"pretrain\"][\"start-lr\"])\n",
    "    s = torch.optim.lr_scheduler.ExponentialLR(o, gamma=config[\"pretrain\"][\"gamma\"])\n",
    "    \n",
    "    for epoch in trange(config[\"pretrain\"][\"epochs\"], desc=\"Pretraining\"):\n",
    "        boards = []\n",
    "        vals = []\n",
    "        for _ in range(config[\"pretrain\"][\"samples\"]):\n",
    "            deck = [i for i in range(1, 14) for _ in range(4)]\n",
    "            random.shuffle(deck)\n",
    "            b = mathematico.Board()\n",
    "            for r in range(5):\n",
    "                for c in range(5):\n",
    "                    b.make_move((r, c), deck[5*r + c])\n",
    "            boards.append(b.grid)\n",
    "            vals.append(b.score())\n",
    "\n",
    "        o.zero_grad()\n",
    "        outs = model(torch.tensor(boards, device=dev))\n",
    "        loss = (outs - torch.tensor(vals, device=dev, dtype=outs.dtype))**2 / len(vals)\n",
    "\n",
    "        loss.sum().backward()\n",
    "        torch.nn.utils.clip_grad_norm_(model.parameters(), config[\"max-gradient-norm\"])\n",
    "        o.step()\n",
    "        s.step()\n",
    "        \n",
    "        if torch.any(torch.isnan(loss)):\n",
    "            print(\"NaN detected...\")\n",
    "            break\n",
    "        \n",
    "        losses.append(loss.sum().detach().numpy())\n",
    "        lr.append(o.param_groups[0]['lr'])\n",
    "        \n",
    "    plt.plot(losses)\n",
    "    ax = plt.gca()\n",
    "    ax.set_yscale('log')\n",
    "    ax.set_title(\"log-loss\")\n",
    "    plt.show()\n",
    "    \n",
    "    plt.plot(lr)\n",
    "    ax = plt.gca()\n",
    "    ax.set_yscale('log')\n",
    "    ax.set_title(\"learning rate\")\n",
    "    plt.show()\n",
    "    \n",
    "    with torch.no_grad():\n",
    "        display(model(torch.tensor([[[1]*5]*5])), model(torch.tensor([[[0]*5]*5])), model(torch.tensor([[[13]*5]*5])), model(torch.tensor([[[10]*5]*5])))"
   ]
  },
  {
   "cell_type": "markdown",
   "metadata": {},
   "source": [
    "## Training"
   ]
  },
  {
   "cell_type": "code",
   "execution_count": 12,
   "metadata": {
    "tags": []
   },
   "outputs": [
    {
     "data": {
      "application/vnd.jupyter.widget-view+json": {
       "model_id": "",
       "version_major": 2,
       "version_minor": 0
      },
      "text/plain": [
       "Evaluating performance tournament:   0%|          | 0/9 [00:00<?, ?it/s]"
      ]
     },
     "metadata": {},
     "output_type": "display_data"
    },
    {
     "data": {
      "application/vnd.jupyter.widget-view+json": {
       "model_id": "4a71c3a228b648a48f5a13129d8bb173",
       "version_major": 2,
       "version_minor": 0
      },
      "text/plain": [
       "Epochs:   0%|          | 0/200 [00:00<?, ?it/s]"
      ]
     },
     "metadata": {},
     "output_type": "display_data"
    },
    {
     "data": {
      "application/vnd.jupyter.widget-view+json": {
       "model_id": "",
       "version_major": 2,
       "version_minor": 0
      },
      "text/plain": [
       "Game playing phase:   0%|          | 0/4 [00:00<?, ?it/s]"
      ]
     },
     "metadata": {},
     "output_type": "display_data"
    },
    {
     "data": {
      "application/vnd.jupyter.widget-view+json": {
       "model_id": "",
       "version_major": 2,
       "version_minor": 0
      },
      "text/plain": [
       "Playing moves:   0%|          | 0/25 [00:00<?, ?it/s]"
      ]
     },
     "metadata": {},
     "output_type": "display_data"
    },
    {
     "data": {
      "application/vnd.jupyter.widget-view+json": {
       "model_id": "",
       "version_major": 2,
       "version_minor": 0
      },
      "text/plain": [
       "Playing moves:   0%|          | 0/25 [00:00<?, ?it/s]"
      ]
     },
     "metadata": {},
     "output_type": "display_data"
    },
    {
     "data": {
      "application/vnd.jupyter.widget-view+json": {
       "model_id": "",
       "version_major": 2,
       "version_minor": 0
      },
      "text/plain": [
       "Playing moves:   0%|          | 0/25 [00:00<?, ?it/s]"
      ]
     },
     "metadata": {},
     "output_type": "display_data"
    },
    {
     "data": {
      "application/vnd.jupyter.widget-view+json": {
       "model_id": "",
       "version_major": 2,
       "version_minor": 0
      },
      "text/plain": [
       "Playing moves:   0%|          | 0/25 [00:00<?, ?it/s]"
      ]
     },
     "metadata": {},
     "output_type": "display_data"
    },
    {
     "name": "stderr",
     "output_type": "stream",
     "text": [
      "wandb: Network error (ConnectionError), entering retry loop.\n"
     ]
    },
    {
     "data": {
      "application/vnd.jupyter.widget-view+json": {
       "model_id": "a26ae6339ad3424385f77fb017c583d1",
       "version_major": 2,
       "version_minor": 0
      },
      "text/plain": [
       "Training loop:   0%|          | 0/64 [00:00<?, ?it/s]"
      ]
     },
     "metadata": {},
     "output_type": "display_data"
    },
    {
     "name": "stdout",
     "output_type": "stream",
     "text": [
      "NaN detected...\n"
     ]
    },
    {
     "ename": "RuntimeError",
     "evalue": "",
     "output_type": "error",
     "traceback": [
      "\u001b[0;31m---------------------------------------------------------------------------\u001b[0m",
      "\u001b[0;31mRuntimeError\u001b[0m                              Traceback (most recent call last)",
      "Cell \u001b[0;32mIn[12], line 5\u001b[0m\n\u001b[1;32m      3\u001b[0m _log(START, \u001b[38;5;28;01mNone\u001b[39;00m, \u001b[38;5;28;01mNone\u001b[39;00m, \u001b[38;5;28;01mNone\u001b[39;00m, \u001b[38;5;28;01mNone\u001b[39;00m, \u001b[38;5;241m0\u001b[39m, \u001b[38;5;28;01mNone\u001b[39;00m, \u001b[38;5;28;01mNone\u001b[39;00m, \u001b[38;5;28;01mNone\u001b[39;00m)\n\u001b[1;32m      4\u001b[0m \u001b[38;5;28;01mfor\u001b[39;00m epoch \u001b[38;5;129;01min\u001b[39;00m trange(\u001b[38;5;241m1\u001b[39m, \u001b[38;5;241m1\u001b[39m\u001b[38;5;241m+\u001b[39mconfig[\u001b[38;5;124m\"\u001b[39m\u001b[38;5;124mn_epochs\u001b[39m\u001b[38;5;124m\"\u001b[39m], desc\u001b[38;5;241m=\u001b[39m\u001b[38;5;124m\"\u001b[39m\u001b[38;5;124mEpochs\u001b[39m\u001b[38;5;124m\"\u001b[39m):\n\u001b[0;32m----> 5\u001b[0m     mean, std, mini, maxi, L, Lm, Lf \u001b[38;5;241m=\u001b[39m \u001b[43mlearn_episode\u001b[49m\u001b[43m(\u001b[49m\n\u001b[1;32m      6\u001b[0m \u001b[43m        \u001b[49m\u001b[43magent\u001b[49m\u001b[43m,\u001b[49m\u001b[43m \u001b[49m\n\u001b[1;32m      7\u001b[0m \u001b[43m        \u001b[49m\u001b[43mmodel\u001b[49m\u001b[43m,\u001b[49m\u001b[43m \u001b[49m\n\u001b[1;32m      8\u001b[0m \u001b[43m        \u001b[49m\u001b[43mn_games\u001b[49m\u001b[38;5;241;43m=\u001b[39;49m\u001b[43mconfig\u001b[49m\u001b[43m[\u001b[49m\u001b[38;5;124;43m\"\u001b[39;49m\u001b[38;5;124;43mn_simulated_games\u001b[39;49m\u001b[38;5;124;43m\"\u001b[39;49m\u001b[43m]\u001b[49m\u001b[43m,\u001b[49m\u001b[43m \u001b[49m\n\u001b[1;32m      9\u001b[0m \u001b[43m        \u001b[49m\u001b[43mbatch_size\u001b[49m\u001b[38;5;241;43m=\u001b[39;49m\u001b[43mconfig\u001b[49m\u001b[43m[\u001b[49m\u001b[38;5;124;43m\"\u001b[39;49m\u001b[38;5;124;43mbatch_size\u001b[39;49m\u001b[38;5;124;43m\"\u001b[39;49m\u001b[43m]\u001b[49m\u001b[43m,\u001b[49m\u001b[43m \u001b[49m\n\u001b[1;32m     10\u001b[0m \u001b[43m        \u001b[49m\u001b[43mm_training\u001b[49m\u001b[38;5;241;43m=\u001b[39;49m\u001b[43mconfig\u001b[49m\u001b[43m[\u001b[49m\u001b[38;5;124;43m\"\u001b[39;49m\u001b[38;5;124;43mn_training_loops\u001b[39;49m\u001b[38;5;124;43m\"\u001b[39;49m\u001b[43m]\u001b[49m\n\u001b[1;32m     11\u001b[0m \u001b[43m    \u001b[49m\u001b[43m)\u001b[49m \n\u001b[1;32m     15\u001b[0m     \u001b[38;5;28;01mif\u001b[39;00m torch\u001b[38;5;241m.\u001b[39many(torch\u001b[38;5;241m.\u001b[39misnan(L)) \u001b[38;5;129;01mor\u001b[39;00m torch\u001b[38;5;241m.\u001b[39many(torch\u001b[38;5;241m.\u001b[39misnan(Lm)):\n\u001b[1;32m     16\u001b[0m         \u001b[38;5;28mprint\u001b[39m(\u001b[38;5;124m\"\u001b[39m\u001b[38;5;124mInstabilities (NaN), aborting...\u001b[39m\u001b[38;5;124m\"\u001b[39m)\n",
      "Cell \u001b[0;32mIn[10], line 181\u001b[0m, in \u001b[0;36mlearn_episode\u001b[0;34m(agent, model, n_games, batch_size, m_training)\u001b[0m\n\u001b[1;32m    179\u001b[0m \u001b[38;5;28;01mif\u001b[39;00m torch\u001b[38;5;241m.\u001b[39many(torch\u001b[38;5;241m.\u001b[39misnan(_loss)):\n\u001b[1;32m    180\u001b[0m     \u001b[38;5;28mprint\u001b[39m(\u001b[38;5;124m\"\u001b[39m\u001b[38;5;124mNaN detected...\u001b[39m\u001b[38;5;124m\"\u001b[39m)\n\u001b[0;32m--> 181\u001b[0m     \u001b[38;5;28;01mraise\u001b[39;00m \u001b[38;5;167;01mRuntimeError\u001b[39;00m()\n\u001b[1;32m    182\u001b[0m torch\u001b[38;5;241m.\u001b[39mnn\u001b[38;5;241m.\u001b[39mutils\u001b[38;5;241m.\u001b[39mclip_grad_norm_(model\u001b[38;5;241m.\u001b[39mparameters(), config[\u001b[38;5;124m\"\u001b[39m\u001b[38;5;124mmax-gradient-norm\u001b[39m\u001b[38;5;124m\"\u001b[39m]) \n\u001b[1;32m    183\u001b[0m optimizer\u001b[38;5;241m.\u001b[39mstep()\n",
      "\u001b[0;31mRuntimeError\u001b[0m: "
     ]
    }
   ],
   "source": [
    "START = time.time()\n",
    "\n",
    "_log(START, None, None, None, None, 0, None, None, None)\n",
    "for epoch in trange(1, 1+config[\"n_epochs\"], desc=\"Epochs\"):\n",
    "    mean, std, mini, maxi, L, Lm, Lf = learn_episode(\n",
    "        agent, \n",
    "        model, \n",
    "        n_games=config[\"n_simulated_games\"], \n",
    "        batch_size=config[\"batch_size\"], \n",
    "        m_training=config[\"n_training_loops\"]\n",
    "    ) \n",
    "    \n",
    "    \n",
    "    \n",
    "    if torch.any(torch.isnan(L)) or torch.any(torch.isnan(Lm)):\n",
    "        print(\"Instabilities (NaN), aborting...\")\n",
    "        break\n",
    "    _log(START, mean, std, mini, maxi, epoch, L, Lm, Lf)\n",
    "    \n",
    "    # form of early stopping\n",
    "    if optimizer.param_groups[0]['lr'] < 1e-8:\n",
    "        print(f\"[{epoch=}] Learning rate is too low, aborting...\")\n",
    "        break"
   ]
  },
  {
   "cell_type": "code",
   "execution_count": null,
   "metadata": {
    "tags": []
   },
   "outputs": [],
   "source": [
    "_log(START, None, None, None, None, 100*config['test after . epochs'], None, None, None)\n",
    "wandb.finish()"
   ]
  },
  {
   "cell_type": "code",
   "execution_count": null,
   "metadata": {
    "tags": []
   },
   "outputs": [],
   "source": [
    "print(agent.mcts.root)"
   ]
  },
  {
   "cell_type": "code",
   "execution_count": null,
   "metadata": {
    "tags": []
   },
   "outputs": [],
   "source": [
    "agent.reset()"
   ]
  },
  {
   "cell_type": "code",
   "execution_count": null,
   "metadata": {
    "tags": []
   },
   "outputs": [],
   "source": [
    "print(agent.move_(1))"
   ]
  },
  {
   "cell_type": "code",
   "execution_count": null,
   "metadata": {
    "tags": []
   },
   "outputs": [],
   "source": [
    "print(agent.mcts.root)"
   ]
  },
  {
   "cell_type": "code",
   "execution_count": null,
   "metadata": {
    "tags": []
   },
   "outputs": [],
   "source": [
    "learn_episode"
   ]
  },
  {
   "cell_type": "code",
   "execution_count": null,
   "metadata": {
    "tags": []
   },
   "outputs": [],
   "source": [
    "model.eval()\n",
    "agent.reset()\n",
    "cards = [i for i in range(1, 13+1) for _ in range(4)]\n",
    "random.shuffle(cards)\n",
    "\n",
    "# game memory\n",
    "expert_memory = []\n",
    "_scores = []\n",
    "game_memory = []\n",
    "true_states = []\n",
    "\n",
    "# play all the moves till the end\n",
    "for move in trange(5*5, desc=\"Playing moves\", leave=None, position=2):\n",
    "    state = deepcopy(agent.board.grid)\n",
    "    card = cards[move]\n",
    "    estimate, root = agent.move_(card)\n",
    "    visited_states = extract(root)\n",
    "    for b, e, v, d, h in visited_states:\n",
    "        for s in all_symmetries(b):\n",
    "            game_memory.append((s, e, v, d, h))\n",
    "    true_states.append(visited_states[0])\n",
    "\n",
    "final_score = agent.board.score()\n",
    "_scores.append(final_score)\n",
    "\n",
    "for board, exp, visits, depth, height in true_states:\n",
    "    for s in all_symmetries(board):\n",
    "        expert_memory.append((s, final_score, exp, visits, depth, height))\n",
    "for b, e, v, d, h in game_memory:\n",
    "    expert_memory.append((b, None, e, v, d, h))"
   ]
  },
  {
   "cell_type": "code",
   "execution_count": null,
   "metadata": {
    "tags": []
   },
   "outputs": [],
   "source": [
    "sam = list(filter(lambda x: x[1] is not None, expert_memory))\n",
    "sam"
   ]
  },
  {
   "cell_type": "code",
   "execution_count": null,
   "metadata": {
    "tags": []
   },
   "outputs": [],
   "source": [
    "import pprint\n",
    "\n",
    "rnd = model.__class__()\n",
    "\n",
    "with torch.no_grad():\n",
    "    for b, idk, expected, visits, dep, height in sam:\n",
    "        pprint.pprint(b)\n",
    "        print(f\"{expected=}\\tcomputed={model(torch.tensor([b]))}\\tgame={idk}\\t{rnd(torch.tensor([b]))}\")\n",
    "        print(f\"{visits=}\\t{dep=}\\t{height=}\")\n",
    "        print(\"\\n\\n\")"
   ]
  },
  {
   "cell_type": "code",
   "execution_count": null,
   "metadata": {
    "tags": []
   },
   "outputs": [],
   "source": [
    "model"
   ]
  },
  {
   "cell_type": "code",
   "execution_count": null,
   "metadata": {
    "tags": []
   },
   "outputs": [],
   "source": [
    "model(torch.tensor([[[1]*5]*5]))"
   ]
  },
  {
   "cell_type": "code",
   "execution_count": null,
   "metadata": {},
   "outputs": [],
   "source": [
    "model.eval()\n",
    "model(torch.tensor([[[13]*5]*5]))"
   ]
  },
  {
   "cell_type": "code",
   "execution_count": null,
   "metadata": {
    "tags": []
   },
   "outputs": [],
   "source": [
    "model"
   ]
  },
  {
   "cell_type": "code",
   "execution_count": null,
   "metadata": {
    "tags": []
   },
   "outputs": [],
   "source": [
    "model.board[2].forward"
   ]
  },
  {
   "cell_type": "code",
   "execution_count": null,
   "metadata": {},
   "outputs": [],
   "source": []
  }
 ],
 "metadata": {
  "kernelspec": {
   "display_name": "Python 3 (ipykernel)",
   "language": "python",
   "name": "python3"
  },
  "language_info": {
   "codemirror_mode": {
    "name": "ipython",
    "version": 3
   },
   "file_extension": ".py",
   "mimetype": "text/x-python",
   "name": "python",
   "nbconvert_exporter": "python",
   "pygments_lexer": "ipython3",
   "version": "3.11.2"
  }
 },
 "nbformat": 4,
 "nbformat_minor": 4
}
